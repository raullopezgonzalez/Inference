{
 "cells": [
  {
   "cell_type": "markdown",
   "metadata": {},
   "source": [
    "This notebook, by [felipe.alonso@urjc.es](mailto:felipe.alonso@urjc.es)\n",
    "\n",
    "In this notebook we will:\n",
    "\n",
    "1. Solve one-sample hypothesis testing examples:\n",
    "    - hypothesis testing for the mean\n",
    "    - hypothesis testing for proportions \n",
    "2. Solve two-sample hypothesis testing examples\n",
    "\n",
    "# 0. Load libraries"
   ]
  },
  {
   "cell_type": "code",
   "execution_count": 1,
   "metadata": {},
   "outputs": [],
   "source": [
    "import numpy as np\n",
    "import pandas as pd\n",
    "\n",
    "import matplotlib.pyplot as plt\n",
    "%matplotlib inline\n",
    "\n",
    "from scipy.stats import t, sem, norm"
   ]
  },
  {
   "cell_type": "markdown",
   "metadata": {},
   "source": [
    "# 1. One sample hypothesis testing\n",
    "\n",
    "### Example 1:\n",
    "\n",
    "Load the data set `mtcars` contained in the `./data/mtcars.csv` file of this repository. Assume that the data set `mtcars` is a random sample. Compute the mean MPG, $\\bar{x}$, of this sample. You want to test whether the true MPG is $\\mu_0$ or smaller using a one sided $5\\%$ level test. Thus, you want to test \n",
    "\n",
    "$$H_0:\\mu = \\mu_0\\quad\\text{ vs.}\\quad H_1:\\mu<\\mu_0$$ \n",
    "\n",
    "<div class=\"alert alert-block alert-info\">\n",
    "Based on the mean MPG of the sample $\\bar{x}$, what is the smallest value of $\\mu_0$ that you would reject $H_0$ for?\n",
    "</div>"
   ]
  },
  {
   "cell_type": "code",
   "execution_count": 2,
   "metadata": {},
   "outputs": [
    {
     "data": {
      "text/html": [
       "<div>\n",
       "<style scoped>\n",
       "    .dataframe tbody tr th:only-of-type {\n",
       "        vertical-align: middle;\n",
       "    }\n",
       "\n",
       "    .dataframe tbody tr th {\n",
       "        vertical-align: top;\n",
       "    }\n",
       "\n",
       "    .dataframe thead th {\n",
       "        text-align: right;\n",
       "    }\n",
       "</style>\n",
       "<table border=\"1\" class=\"dataframe\">\n",
       "  <thead>\n",
       "    <tr style=\"text-align: right;\">\n",
       "      <th></th>\n",
       "      <th>brand</th>\n",
       "      <th>mpg</th>\n",
       "      <th>cyl</th>\n",
       "      <th>disp</th>\n",
       "      <th>hp</th>\n",
       "      <th>drat</th>\n",
       "      <th>wt</th>\n",
       "      <th>qsec</th>\n",
       "      <th>vs</th>\n",
       "      <th>am</th>\n",
       "      <th>gear</th>\n",
       "      <th>carb</th>\n",
       "    </tr>\n",
       "  </thead>\n",
       "  <tbody>\n",
       "    <tr>\n",
       "      <th>0</th>\n",
       "      <td>Mazda RX4</td>\n",
       "      <td>21.0</td>\n",
       "      <td>6</td>\n",
       "      <td>160.0</td>\n",
       "      <td>110</td>\n",
       "      <td>3.90</td>\n",
       "      <td>2.620</td>\n",
       "      <td>16.46</td>\n",
       "      <td>0</td>\n",
       "      <td>1</td>\n",
       "      <td>4</td>\n",
       "      <td>4</td>\n",
       "    </tr>\n",
       "    <tr>\n",
       "      <th>1</th>\n",
       "      <td>Mazda RX4 Wag</td>\n",
       "      <td>21.0</td>\n",
       "      <td>6</td>\n",
       "      <td>160.0</td>\n",
       "      <td>110</td>\n",
       "      <td>3.90</td>\n",
       "      <td>2.875</td>\n",
       "      <td>17.02</td>\n",
       "      <td>0</td>\n",
       "      <td>1</td>\n",
       "      <td>4</td>\n",
       "      <td>4</td>\n",
       "    </tr>\n",
       "    <tr>\n",
       "      <th>2</th>\n",
       "      <td>Datsun 710</td>\n",
       "      <td>22.8</td>\n",
       "      <td>4</td>\n",
       "      <td>108.0</td>\n",
       "      <td>93</td>\n",
       "      <td>3.85</td>\n",
       "      <td>2.320</td>\n",
       "      <td>18.61</td>\n",
       "      <td>1</td>\n",
       "      <td>1</td>\n",
       "      <td>4</td>\n",
       "      <td>1</td>\n",
       "    </tr>\n",
       "    <tr>\n",
       "      <th>3</th>\n",
       "      <td>Hornet 4 Drive</td>\n",
       "      <td>21.4</td>\n",
       "      <td>6</td>\n",
       "      <td>258.0</td>\n",
       "      <td>110</td>\n",
       "      <td>3.08</td>\n",
       "      <td>3.215</td>\n",
       "      <td>19.44</td>\n",
       "      <td>1</td>\n",
       "      <td>0</td>\n",
       "      <td>3</td>\n",
       "      <td>1</td>\n",
       "    </tr>\n",
       "    <tr>\n",
       "      <th>4</th>\n",
       "      <td>Hornet Sportabout</td>\n",
       "      <td>18.7</td>\n",
       "      <td>8</td>\n",
       "      <td>360.0</td>\n",
       "      <td>175</td>\n",
       "      <td>3.15</td>\n",
       "      <td>3.440</td>\n",
       "      <td>17.02</td>\n",
       "      <td>0</td>\n",
       "      <td>0</td>\n",
       "      <td>3</td>\n",
       "      <td>2</td>\n",
       "    </tr>\n",
       "  </tbody>\n",
       "</table>\n",
       "</div>"
      ],
      "text/plain": [
       "               brand   mpg  cyl   disp   hp  drat     wt   qsec  vs  am  gear  \\\n",
       "0          Mazda RX4  21.0    6  160.0  110  3.90  2.620  16.46   0   1     4   \n",
       "1      Mazda RX4 Wag  21.0    6  160.0  110  3.90  2.875  17.02   0   1     4   \n",
       "2         Datsun 710  22.8    4  108.0   93  3.85  2.320  18.61   1   1     4   \n",
       "3     Hornet 4 Drive  21.4    6  258.0  110  3.08  3.215  19.44   1   0     3   \n",
       "4  Hornet Sportabout  18.7    8  360.0  175  3.15  3.440  17.02   0   0     3   \n",
       "\n",
       "   carb  \n",
       "0     4  \n",
       "1     4  \n",
       "2     1  \n",
       "3     1  \n",
       "4     2  "
      ]
     },
     "execution_count": 2,
     "metadata": {},
     "output_type": "execute_result"
    }
   ],
   "source": [
    "mtcars = pd.read_csv('C:\\\\Users\\\\riul0\\\\Desktop\\\\Inference\\\\inference_prof\\\\inference\\\\data\\mtcars.csv',sep=\",\",decimal='.')\n",
    "mtcars.head()"
   ]
  },
  {
   "cell_type": "code",
   "execution_count": 74,
   "metadata": {},
   "outputs": [
    {
     "name": "stdout",
     "output_type": "stream",
     "text": [
      "[21.  21.  22.8 21.4 18.7 18.1 14.3 24.4 22.8 19.2 17.8 16.4 17.3 15.2\n",
      " 10.4 10.4 14.7 32.4 30.4 33.9 21.5 15.5 15.2 13.3 19.2 27.3 26.  30.4\n",
      " 15.8 19.7 15.  21.4]\n",
      "The mean is: 20.090625000000003\n"
     ]
    }
   ],
   "source": [
    "mpg = mtcars.mpg.values\n",
    "print(mpg)\n",
    "mean = mpg.mean()\n",
    "print('The mean is:',mean)"
   ]
  },
  {
   "cell_type": "code",
   "execution_count": 75,
   "metadata": {},
   "outputs": [],
   "source": [
    "n = len(mpg)\n",
    "alpha = 0.05\n",
    "t= t(df=n-1).ppf(alpha)\n",
    "se = np.std(mpg,ddof=1)/np.sqrt(n)"
   ]
  },
  {
   "cell_type": "code",
   "execution_count": 76,
   "metadata": {},
   "outputs": [
    {
     "name": "stdout",
     "output_type": "stream",
     "text": [
      "-1.6955187891366654\n"
     ]
    }
   ],
   "source": [
    "print(t)"
   ]
  },
  {
   "cell_type": "code",
   "execution_count": 77,
   "metadata": {},
   "outputs": [
    {
     "name": "stdout",
     "output_type": "stream",
     "text": [
      "21.89707134151299\n"
     ]
    }
   ],
   "source": [
    "# t = (mean - Y0)/se             so... \n",
    "print(mean-(t*se))\n",
    "\n",
    "# Your solution should be: 21.897"
   ]
  },
  {
   "cell_type": "markdown",
   "metadata": {},
   "source": [
    "### Example 2:\n",
    "\n",
    "A survey claims that $9$ out of $10$ doctors recommend aspirin for their patients with headaches. To test this claim, a random sample of $100$ doctors is obtained. Of these $100$ doctors, $82$ indicate that they recommend aspirin.\n",
    "\n",
    "<div class=\"alert alert-block alert-info\">\n",
    "Is this claim accurate? Use $\\alpha$ = 0.05\n",
    "</div>\n",
    "\n",
    "Hint: you might want to use the [`binom_test`](https://docs.scipy.org/doc/scipy-0.14.0/reference/generated/scipy.stats.binom_test.html#scipy.stats.binom_test). Notice that this is an exact test, and does not assume normality."
   ]
  },
  {
   "cell_type": "code",
   "execution_count": 17,
   "metadata": {},
   "outputs": [],
   "source": [
    "from scipy.stats import binom_test, binom"
   ]
  },
  {
   "cell_type": "code",
   "execution_count": 79,
   "metadata": {},
   "outputs": [
    {
     "name": "stdout",
     "output_type": "stream",
     "text": [
      "1.959963984540054 -1.959963984540054\n",
      "-2.0823168251814157\n",
      "0.01195216391400506 Highly significant to reject H0\n"
     ]
    }
   ],
   "source": [
    "p_estimator = 82/100\n",
    "q_estimator = 1-p_estimator\n",
    "n = 100\n",
    "p = 9/10\n",
    "alpha = 0.05\n",
    "se = np.sqrt(p_estimator*q_estimator/n)\n",
    "\n",
    "z = norm().ppf(1-(alpha/2))\n",
    "\n",
    "print(z,-z)\n",
    "print((p_estimator-p)/(se))\n",
    "print(binom_test(x=82, n=100, p=p),'Highly significant to reject H0')\n",
    "\n",
    "\n",
    "# Your solution should be 0.00766 or 0.01195 (depending on the assumptions) ¡! He's saying p-value"
   ]
  },
  {
   "cell_type": "code",
   "execution_count": 14,
   "metadata": {},
   "outputs": [
    {
     "name": "stdout",
     "output_type": "stream",
     "text": [
      "n*q*p 14.760000000000003\n",
      "2.666666666666669\n",
      "1.959963984540054\n",
      "p_value= 0.00766076113517941\n"
     ]
    }
   ],
   "source": [
    "alpha = 0.05\n",
    "\n",
    "p_est = 82/100\n",
    "q_est = 1-p_est\n",
    "\n",
    "n = 100\n",
    "\n",
    "p = 9/10\n",
    "q = 1 - p\n",
    "\n",
    "print('n*q*p',n*p_est*q_est)\n",
    "\n",
    "se = np.sqrt((p*q)/n)\n",
    "\n",
    "\n",
    "\n",
    "z = (p_est - p)/se\n",
    "z_norm = norm().ppf(1-(alpha)/2)\n",
    "print(np.abs(z))\n",
    "print(z_norm)\n",
    "\n",
    "print('p_value=', (2*norm().cdf(-np.abs(z))))"
   ]
  },
  {
   "cell_type": "markdown",
   "metadata": {},
   "source": [
    "### Example 3: \n",
    "\n",
    "You believe the coin that you’re flipping is biased towards heads. You get $55$ heads out of $100$ flips. \n",
    "\n",
    "<div class=\"alert alert-block alert-info\">\n",
    "Do you reject at the $5\\%$ level that the coin is fair?\n",
    "</div>"
   ]
  },
  {
   "cell_type": "code",
   "execution_count": 2,
   "metadata": {},
   "outputs": [],
   "source": [
    "from scipy.stats import binom_test, binom\n",
    "# your p-value should be 0.1841"
   ]
  },
  {
   "cell_type": "code",
   "execution_count": 13,
   "metadata": {},
   "outputs": [
    {
     "name": "stdout",
     "output_type": "stream",
     "text": [
      "1.6448536269514722 -1.6448536269514722\n",
      "1.0000000000000009\n",
      "p_val 0.15865525393145685\n",
      "0.18410080866334827 Not significant to reject H0\n"
     ]
    }
   ],
   "source": [
    "p = 0.5\n",
    "q = 1 - p\n",
    "p_est = 55/100\n",
    "n = 100\n",
    "se = np.sqrt(p*q/n)\n",
    "alpha = 0.05\n",
    "\n",
    "t = (p_est-p)/(se)\n",
    "z = norm().ppf(1-(alpha))\n",
    "\n",
    "print(z,-z)\n",
    "print(np.abs(t))\n",
    "\n",
    "\n",
    "cond = p*q*n\n",
    "if cond >= 5:\n",
    "    print('p_val' , norm().cdf(-np.abs(t)))\n",
    "\n",
    "print(binom_test(x=55, n=100, p=p, alternative = 'greater'),'Not significant to reject H0')\n",
    "\n",
    "\n",
    "\n",
    "# your p-value should be 0.1841"
   ]
  },
  {
   "cell_type": "markdown",
   "metadata": {},
   "source": [
    "# 2. Two sample hypothesis testing"
   ]
  },
  {
   "cell_type": "markdown",
   "metadata": {},
   "source": [
    "### Example 4\n",
    "\n",
    "[Tromholt (2016)](https://www.liebertpub.com/doi/full/10.1089/cyber.2016.0259) investigated whether quitting Facebook can improve your well-being. In the experiment, about a thousand volunteers (all Facebook users) were randomly allocated to either a treatment group, in which they told not to use Facebook for one week, or a control group, in which they carried on using Facebook as normal. At the end of the week, all participants completed a questionnaire. One of the questions asked them to record, “*In general, how satisfied are you with your life today?*” on a scale of 1 (very dissatisfied) to 10 (very satisfied). Let  $x_1,x_2,\\ldots,x_n$ be the observed responses in the treatment group, and $y_1,y_2,\\ldots,y_n$ be the observed responses in the control group. Results from those who repsponded were as follows:\n",
    "\n",
    "$$\\bar{x} = 8.11,\\,\\bar{y} = 7.74,\\,s_x =1.23^2,\\,s_y = 1.43^2,\\,n = 516,\\,m=372$$\n",
    "\n",
    "\n",
    "<div class=\"alert alert-block alert-info\">\n",
    "State suitable hypotheses for the experiment. Conduct an appropriate hypothesis test, reporting the  \n",
    "$p-$value.\n",
    "</div>"
   ]
  },
  {
   "cell_type": "code",
   "execution_count": 14,
   "metadata": {},
   "outputs": [
    {
     "name": "stdout",
     "output_type": "stream",
     "text": [
      "0.829000340527769 1.209825833321524\n",
      "0.5473640823371537\n"
     ]
    }
   ],
   "source": [
    "from scipy.stats import f\n",
    "sx = 1.23**2\n",
    "sy = 1.43**2\n",
    "alpha = 0.05\n",
    "F_big = f(516-1,372-1).ppf(1-alpha/2)\n",
    "F_low = f(516-1,372-1).ppf(alpha/2)\n",
    "print(F_low, F_big)\n",
    "f = (sx**2)/(sy**2)\n",
    "print(f)"
   ]
  },
  {
   "cell_type": "code",
   "execution_count": 151,
   "metadata": {},
   "outputs": [
    {
     "name": "stdout",
     "output_type": "stream",
     "text": [
      "4.030075554498397\n",
      "723.942208478447\n",
      "1.9632462560713146\n"
     ]
    }
   ],
   "source": [
    "# alpha = 0.05 as default\n",
    "alpha = 0.05\n",
    "n = 516\n",
    "m = 372\n",
    "sx = 1.23\n",
    "sy = 1.43\n",
    "\n",
    "x = 8.11\n",
    "y = 7.74 \n",
    "\n",
    "#Unknown and unequal variances   because it is not saying anything about variances\n",
    "t_2 = (x-y)/((np.sqrt((sx**2/n) + (sy**2/m))))\n",
    "print(t_2)\n",
    "d = ((((sx**2)/n) + ((sy**2)/m))**2)/(((sx**2)/n)**2/(n-1)+((sy**2)/m)**2/(m-1))\n",
    "print(d)\n",
    "t_alpha_2 = t(df=d).ppf(1-(alpha/2))\n",
    "print(t_alpha_2)"
   ]
  },
  {
   "cell_type": "code",
   "execution_count": 152,
   "metadata": {},
   "outputs": [
    {
     "name": "stdout",
     "output_type": "stream",
     "text": [
      "6.166126520490423e-05\n"
     ]
    }
   ],
   "source": [
    "# Your p-value solution should be: 6.166126520490217e-05\n",
    "p_value_2 = 2*(1-t(df=d).cdf(t_2))\n",
    "print(p_value_2)"
   ]
  },
  {
   "cell_type": "markdown",
   "metadata": {},
   "source": [
    "### Example 5\n",
    "\n",
    "Consider again the `mtcars` data set. Use a two sample $t-$test to test the hypothesis that the $4$ and $6$ `CYL` cars have the same `MPG`. Notice that `CYL` refers to a column of the `mtcars` data set.\n",
    "\n",
    "<div class=\"alert alert-block alert-info\">\n",
    "Do you reject at the $5\\%$ confidence level? What's the $p-$value?\n",
    "</div>\n",
    "\n",
    "Hint: you might find [`ttest_ind`](https://docs.scipy.org/doc/scipy-0.14.0/reference/generated/scipy.stats.ttest_ind.html) function useful.\n"
   ]
  },
  {
   "cell_type": "code",
   "execution_count": 11,
   "metadata": {},
   "outputs": [
    {
     "data": {
      "text/html": [
       "<div>\n",
       "<style scoped>\n",
       "    .dataframe tbody tr th:only-of-type {\n",
       "        vertical-align: middle;\n",
       "    }\n",
       "\n",
       "    .dataframe tbody tr th {\n",
       "        vertical-align: top;\n",
       "    }\n",
       "\n",
       "    .dataframe thead th {\n",
       "        text-align: right;\n",
       "    }\n",
       "</style>\n",
       "<table border=\"1\" class=\"dataframe\">\n",
       "  <thead>\n",
       "    <tr style=\"text-align: right;\">\n",
       "      <th></th>\n",
       "      <th>brand</th>\n",
       "      <th>mpg</th>\n",
       "      <th>cyl</th>\n",
       "      <th>disp</th>\n",
       "      <th>hp</th>\n",
       "      <th>drat</th>\n",
       "      <th>wt</th>\n",
       "      <th>qsec</th>\n",
       "      <th>vs</th>\n",
       "      <th>am</th>\n",
       "      <th>gear</th>\n",
       "      <th>carb</th>\n",
       "    </tr>\n",
       "  </thead>\n",
       "  <tbody>\n",
       "    <tr>\n",
       "      <th>0</th>\n",
       "      <td>Mazda RX4</td>\n",
       "      <td>21.0</td>\n",
       "      <td>6</td>\n",
       "      <td>160.0</td>\n",
       "      <td>110</td>\n",
       "      <td>3.90</td>\n",
       "      <td>2.620</td>\n",
       "      <td>16.46</td>\n",
       "      <td>0</td>\n",
       "      <td>1</td>\n",
       "      <td>4</td>\n",
       "      <td>4</td>\n",
       "    </tr>\n",
       "    <tr>\n",
       "      <th>1</th>\n",
       "      <td>Mazda RX4 Wag</td>\n",
       "      <td>21.0</td>\n",
       "      <td>6</td>\n",
       "      <td>160.0</td>\n",
       "      <td>110</td>\n",
       "      <td>3.90</td>\n",
       "      <td>2.875</td>\n",
       "      <td>17.02</td>\n",
       "      <td>0</td>\n",
       "      <td>1</td>\n",
       "      <td>4</td>\n",
       "      <td>4</td>\n",
       "    </tr>\n",
       "    <tr>\n",
       "      <th>2</th>\n",
       "      <td>Datsun 710</td>\n",
       "      <td>22.8</td>\n",
       "      <td>4</td>\n",
       "      <td>108.0</td>\n",
       "      <td>93</td>\n",
       "      <td>3.85</td>\n",
       "      <td>2.320</td>\n",
       "      <td>18.61</td>\n",
       "      <td>1</td>\n",
       "      <td>1</td>\n",
       "      <td>4</td>\n",
       "      <td>1</td>\n",
       "    </tr>\n",
       "    <tr>\n",
       "      <th>3</th>\n",
       "      <td>Hornet 4 Drive</td>\n",
       "      <td>21.4</td>\n",
       "      <td>6</td>\n",
       "      <td>258.0</td>\n",
       "      <td>110</td>\n",
       "      <td>3.08</td>\n",
       "      <td>3.215</td>\n",
       "      <td>19.44</td>\n",
       "      <td>1</td>\n",
       "      <td>0</td>\n",
       "      <td>3</td>\n",
       "      <td>1</td>\n",
       "    </tr>\n",
       "    <tr>\n",
       "      <th>4</th>\n",
       "      <td>Hornet Sportabout</td>\n",
       "      <td>18.7</td>\n",
       "      <td>8</td>\n",
       "      <td>360.0</td>\n",
       "      <td>175</td>\n",
       "      <td>3.15</td>\n",
       "      <td>3.440</td>\n",
       "      <td>17.02</td>\n",
       "      <td>0</td>\n",
       "      <td>0</td>\n",
       "      <td>3</td>\n",
       "      <td>2</td>\n",
       "    </tr>\n",
       "  </tbody>\n",
       "</table>\n",
       "</div>"
      ],
      "text/plain": [
       "               brand   mpg  cyl   disp   hp  drat     wt   qsec  vs  am  gear  \\\n",
       "0          Mazda RX4  21.0    6  160.0  110  3.90  2.620  16.46   0   1     4   \n",
       "1      Mazda RX4 Wag  21.0    6  160.0  110  3.90  2.875  17.02   0   1     4   \n",
       "2         Datsun 710  22.8    4  108.0   93  3.85  2.320  18.61   1   1     4   \n",
       "3     Hornet 4 Drive  21.4    6  258.0  110  3.08  3.215  19.44   1   0     3   \n",
       "4  Hornet Sportabout  18.7    8  360.0  175  3.15  3.440  17.02   0   0     3   \n",
       "\n",
       "   carb  \n",
       "0     4  \n",
       "1     4  \n",
       "2     1  \n",
       "3     1  \n",
       "4     2  "
      ]
     },
     "execution_count": 11,
     "metadata": {},
     "output_type": "execute_result"
    }
   ],
   "source": [
    "mtcars = pd.read_csv('C:\\\\Users\\\\riul0\\\\Desktop\\\\Inference\\\\inference_prof\\\\inference\\\\data\\mtcars.csv',sep=\",\",decimal='.')\n",
    "mtcars.head()\n",
    "\n",
    "# Your p-value solution should be: 0.00040484953417022697"
   ]
  },
  {
   "cell_type": "code",
   "execution_count": 12,
   "metadata": {},
   "outputs": [
    {
     "data": {
      "text/html": [
       "<div>\n",
       "<style scoped>\n",
       "    .dataframe tbody tr th:only-of-type {\n",
       "        vertical-align: middle;\n",
       "    }\n",
       "\n",
       "    .dataframe tbody tr th {\n",
       "        vertical-align: top;\n",
       "    }\n",
       "\n",
       "    .dataframe thead th {\n",
       "        text-align: right;\n",
       "    }\n",
       "</style>\n",
       "<table border=\"1\" class=\"dataframe\">\n",
       "  <thead>\n",
       "    <tr style=\"text-align: right;\">\n",
       "      <th></th>\n",
       "      <th>cyl</th>\n",
       "      <th>mpg</th>\n",
       "    </tr>\n",
       "  </thead>\n",
       "  <tbody>\n",
       "    <tr>\n",
       "      <th>0</th>\n",
       "      <td>6</td>\n",
       "      <td>21.0</td>\n",
       "    </tr>\n",
       "    <tr>\n",
       "      <th>1</th>\n",
       "      <td>6</td>\n",
       "      <td>21.0</td>\n",
       "    </tr>\n",
       "    <tr>\n",
       "      <th>2</th>\n",
       "      <td>4</td>\n",
       "      <td>22.8</td>\n",
       "    </tr>\n",
       "    <tr>\n",
       "      <th>3</th>\n",
       "      <td>6</td>\n",
       "      <td>21.4</td>\n",
       "    </tr>\n",
       "    <tr>\n",
       "      <th>4</th>\n",
       "      <td>8</td>\n",
       "      <td>18.7</td>\n",
       "    </tr>\n",
       "    <tr>\n",
       "      <th>5</th>\n",
       "      <td>6</td>\n",
       "      <td>18.1</td>\n",
       "    </tr>\n",
       "    <tr>\n",
       "      <th>6</th>\n",
       "      <td>8</td>\n",
       "      <td>14.3</td>\n",
       "    </tr>\n",
       "    <tr>\n",
       "      <th>7</th>\n",
       "      <td>4</td>\n",
       "      <td>24.4</td>\n",
       "    </tr>\n",
       "    <tr>\n",
       "      <th>8</th>\n",
       "      <td>4</td>\n",
       "      <td>22.8</td>\n",
       "    </tr>\n",
       "    <tr>\n",
       "      <th>9</th>\n",
       "      <td>6</td>\n",
       "      <td>19.2</td>\n",
       "    </tr>\n",
       "    <tr>\n",
       "      <th>10</th>\n",
       "      <td>6</td>\n",
       "      <td>17.8</td>\n",
       "    </tr>\n",
       "    <tr>\n",
       "      <th>11</th>\n",
       "      <td>8</td>\n",
       "      <td>16.4</td>\n",
       "    </tr>\n",
       "    <tr>\n",
       "      <th>12</th>\n",
       "      <td>8</td>\n",
       "      <td>17.3</td>\n",
       "    </tr>\n",
       "    <tr>\n",
       "      <th>13</th>\n",
       "      <td>8</td>\n",
       "      <td>15.2</td>\n",
       "    </tr>\n",
       "    <tr>\n",
       "      <th>14</th>\n",
       "      <td>8</td>\n",
       "      <td>10.4</td>\n",
       "    </tr>\n",
       "    <tr>\n",
       "      <th>15</th>\n",
       "      <td>8</td>\n",
       "      <td>10.4</td>\n",
       "    </tr>\n",
       "    <tr>\n",
       "      <th>16</th>\n",
       "      <td>8</td>\n",
       "      <td>14.7</td>\n",
       "    </tr>\n",
       "    <tr>\n",
       "      <th>17</th>\n",
       "      <td>4</td>\n",
       "      <td>32.4</td>\n",
       "    </tr>\n",
       "    <tr>\n",
       "      <th>18</th>\n",
       "      <td>4</td>\n",
       "      <td>30.4</td>\n",
       "    </tr>\n",
       "    <tr>\n",
       "      <th>19</th>\n",
       "      <td>4</td>\n",
       "      <td>33.9</td>\n",
       "    </tr>\n",
       "    <tr>\n",
       "      <th>20</th>\n",
       "      <td>4</td>\n",
       "      <td>21.5</td>\n",
       "    </tr>\n",
       "    <tr>\n",
       "      <th>21</th>\n",
       "      <td>8</td>\n",
       "      <td>15.5</td>\n",
       "    </tr>\n",
       "    <tr>\n",
       "      <th>22</th>\n",
       "      <td>8</td>\n",
       "      <td>15.2</td>\n",
       "    </tr>\n",
       "    <tr>\n",
       "      <th>23</th>\n",
       "      <td>8</td>\n",
       "      <td>13.3</td>\n",
       "    </tr>\n",
       "    <tr>\n",
       "      <th>24</th>\n",
       "      <td>8</td>\n",
       "      <td>19.2</td>\n",
       "    </tr>\n",
       "    <tr>\n",
       "      <th>25</th>\n",
       "      <td>4</td>\n",
       "      <td>27.3</td>\n",
       "    </tr>\n",
       "    <tr>\n",
       "      <th>26</th>\n",
       "      <td>4</td>\n",
       "      <td>26.0</td>\n",
       "    </tr>\n",
       "    <tr>\n",
       "      <th>27</th>\n",
       "      <td>4</td>\n",
       "      <td>30.4</td>\n",
       "    </tr>\n",
       "    <tr>\n",
       "      <th>28</th>\n",
       "      <td>8</td>\n",
       "      <td>15.8</td>\n",
       "    </tr>\n",
       "    <tr>\n",
       "      <th>29</th>\n",
       "      <td>6</td>\n",
       "      <td>19.7</td>\n",
       "    </tr>\n",
       "    <tr>\n",
       "      <th>30</th>\n",
       "      <td>8</td>\n",
       "      <td>15.0</td>\n",
       "    </tr>\n",
       "    <tr>\n",
       "      <th>31</th>\n",
       "      <td>4</td>\n",
       "      <td>21.4</td>\n",
       "    </tr>\n",
       "  </tbody>\n",
       "</table>\n",
       "</div>"
      ],
      "text/plain": [
       "    cyl   mpg\n",
       "0     6  21.0\n",
       "1     6  21.0\n",
       "2     4  22.8\n",
       "3     6  21.4\n",
       "4     8  18.7\n",
       "5     6  18.1\n",
       "6     8  14.3\n",
       "7     4  24.4\n",
       "8     4  22.8\n",
       "9     6  19.2\n",
       "10    6  17.8\n",
       "11    8  16.4\n",
       "12    8  17.3\n",
       "13    8  15.2\n",
       "14    8  10.4\n",
       "15    8  10.4\n",
       "16    8  14.7\n",
       "17    4  32.4\n",
       "18    4  30.4\n",
       "19    4  33.9\n",
       "20    4  21.5\n",
       "21    8  15.5\n",
       "22    8  15.2\n",
       "23    8  13.3\n",
       "24    8  19.2\n",
       "25    4  27.3\n",
       "26    4  26.0\n",
       "27    4  30.4\n",
       "28    8  15.8\n",
       "29    6  19.7\n",
       "30    8  15.0\n",
       "31    4  21.4"
      ]
     },
     "execution_count": 12,
     "metadata": {},
     "output_type": "execute_result"
    }
   ],
   "source": [
    "mtcars[['cyl','mpg']]"
   ]
  },
  {
   "cell_type": "markdown",
   "metadata": {},
   "source": [
    "Both are independent"
   ]
  },
  {
   "cell_type": "code",
   "execution_count": 13,
   "metadata": {},
   "outputs": [
    {
     "name": "stdout",
     "output_type": "stream",
     "text": [
      "19.74285714285714\n",
      "2.112857142857141\n",
      "7\n"
     ]
    }
   ],
   "source": [
    "cyl_6 = mtcars[mtcars.cyl == 6]['mpg']\n",
    "print(cyl_6.mean())\n",
    "print(cyl_6.var())\n",
    "print(cyl_6.count())"
   ]
  },
  {
   "cell_type": "code",
   "execution_count": 14,
   "metadata": {},
   "outputs": [
    {
     "name": "stdout",
     "output_type": "stream",
     "text": [
      "26.663636363636364\n",
      "20.338545454545446\n",
      "11\n"
     ]
    }
   ],
   "source": [
    "cyl_4 = mtcars[mtcars.cyl == 4]['mpg']\n",
    "print(cyl_4.mean())\n",
    "print(cyl_4.var())\n",
    "print(cyl_4.count())"
   ]
  },
  {
   "cell_type": "markdown",
   "metadata": {},
   "source": [
    "Here we proove the No equal variances"
   ]
  },
  {
   "cell_type": "code",
   "execution_count": 15,
   "metadata": {},
   "outputs": [],
   "source": [
    "from scipy.stats import ttest_ind\n",
    "# When n1 != n2, the equal variance t-statistic is no longer equal to the unequal variance t-statistic"
   ]
  },
  {
   "cell_type": "code",
   "execution_count": 16,
   "metadata": {},
   "outputs": [
    {
     "data": {
      "text/plain": [
       "Ttest_indResult(statistic=4.719059404187968, pvalue=0.00040484953417022697)"
      ]
     },
     "execution_count": 16,
     "metadata": {},
     "output_type": "execute_result"
    }
   ],
   "source": [
    "ttest_ind(cyl_4,cyl_6,equal_var = False)"
   ]
  },
  {
   "cell_type": "code",
   "execution_count": 23,
   "metadata": {},
   "outputs": [
    {
     "name": "stdout",
     "output_type": "stream",
     "text": [
      "4.719059404187968\n",
      "2.161115023441006\n",
      "0.000404849534170193\n"
     ]
    }
   ],
   "source": [
    "x = mtcars[mtcars.cyl==4].mpg.values\n",
    "y = mtcars[mtcars.cyl==6].mpg.values\n",
    "\n",
    "# So, the hypothesis would be H0: mu_x = mu_y vs H1: mu_x != mu_y\n",
    "\n",
    "#--- Approach 1: code the test\n",
    "x_bar = x.mean()\n",
    "y_bar = y.mean()\n",
    "\n",
    "sx2 = np.std(x,ddof=1)**2\n",
    "sy2 = np.std(y,ddof=1)**2\n",
    "\n",
    "n = len(x)\n",
    "m = len(y)\n",
    "\n",
    "# We will use the t-test for independent samples with unknown and unequal variances, thus\n",
    "ts = (x_bar-y_bar)/np.sqrt(sx2/n + sy2/m)\n",
    "d  = (sx2/n + sy2/m)**2 / ( (sx2/n)**2/(n-1) + (sy2/m)**2/(m-1) )\n",
    "print(ts)\n",
    "\n",
    "t_alpha_2 = t(df=d).ppf(1-(alpha/2))\n",
    "print(t_alpha_2)\n",
    "\n",
    "p_value_2 = 2*(1-t(df=d).cdf(ts))\n",
    "print(p_value_2)"
   ]
  },
  {
   "cell_type": "markdown",
   "metadata": {},
   "source": [
    "### Example 6:\n",
    "\n",
    "Patients with type-2 diabetes may use drugs to control their blood sugar levels. A pharmaceutical company conducted a clinical trial to compare the efficacy of a combination of two drugs, *sitagliptin* and *metformin*, with using *metformin* alone. The product name for this combination of drugs is “Efficib”. 190 patients were recruited to the trial, and were randomly allocated to one of two treatments:\n",
    "\n",
    "- treatment 1: 100mg sitagliptin per day, and at least 1500mg metformin per day\n",
    "- treatment 2: a daily placebo, made to look like a dose of 100mg sitagliptin, and at least 1500mg metformin per day.\n",
    "\n",
    "The study was “double-blinded”: neither the patients nor their doctors knew which treatment they were getting (though the trial investigators did know.) A1C (a measure of blood sugar level) was recorded for each patient at the start and after 18 weeks, and the change in A1C was recorded for each patient.\n",
    "\n",
    "Let $X_i$ denote the change in A1C for the $i-$th patient on the treatment 1 ($i=1,\\ldots,95$), and $Y_j$  denote the change in A1C the $j-$th patient on treatment 2 ($j=1,\\ldots,92$). We assume that $X_i\\sim\\mathcal{N}(\\mu_x,\\sigma_x^2)$ and that $Y_i\\sim\\mathcal{N}(\\mu_y,\\sigma_y^2)$. \n",
    "\n",
    "We have the following information:\n",
    "\n",
    "$$\\bar{x} = -1.00,\\,\\bar{y} = 0.02,\\,s_x^2 =1.5456,\\,s_y^2 = 1.4968,\\,n = 95,\\,m=92$$\n",
    "\n",
    "\n",
    "<div class=\"alert alert-block alert-info\">\n",
    "State suitable hypotheses for the experiment. Conduct an appropriate hypothesis test, reporting the  \n",
    "$p-$value.\n",
    "</div>"
   ]
  },
  {
   "cell_type": "code",
   "execution_count": 6,
   "metadata": {},
   "outputs": [
    {
     "name": "stdout",
     "output_type": "stream",
     "text": [
      "0.664007235136778 1.5080878610787058\n",
      "1.0326028861571355\n"
     ]
    }
   ],
   "source": [
    "from scipy.stats import f\n",
    "sx = np.sqrt(1.5456)\n",
    "sy = np.sqrt(1.4968)\n",
    "alpha = 0.05\n",
    "F_big = f(95-1,92-1).ppf(1-alpha/2)\n",
    "F_low = f(95-1,92-1).ppf(alpha/2)\n",
    "print(F_low, F_big)\n",
    "f = (sx**2)/(sy**2)\n",
    "print(f)"
   ]
  },
  {
   "cell_type": "code",
   "execution_count": 198,
   "metadata": {},
   "outputs": [
    {
     "name": "stdout",
     "output_type": "stream",
     "text": [
      "-5.654546908421991\n",
      "-1.9728733640219132\n",
      "5.846043953288385e-08\n"
     ]
    }
   ],
   "source": [
    "# alpha = 0.05 as default\n",
    "alpha = 0.05\n",
    "n = 95\n",
    "m = 92\n",
    "sx = np.sqrt(1.5456)\n",
    "sy = np.sqrt(1.4968)\n",
    "\n",
    "x = -1\n",
    "y = 0.02\n",
    "\n",
    "#Unknown and unequal variances   because it is not saying anything about variances\n",
    "t_2 = (x-y)/((np.sqrt((sx**2/n) + (sy**2/m))))\n",
    "print(t_2)\n",
    "d = ((((sx**2)/n) + ((sy**2)/m))**2)/(((sx**2)/n)**2/(n-1)+((sy**2)/m)**2/(m-1))\n",
    "#print(d)\n",
    "t_alpha_2 = t(df=d).ppf((alpha/2))\n",
    "print(t_alpha_2)\n",
    "\n",
    "\n",
    "p_value_2 = 2*(t(df=d).cdf(t_2))\n",
    "print(p_value_2)\n",
    "\n",
    "# Your p-value solution should be: 5.846043953288385e-08"
   ]
  },
  {
   "cell_type": "markdown",
   "metadata": {},
   "source": [
    "Thus, there is evidence (at the 5% level of significance) that there is an effect of combining sitagliptin with metformin, and that this effect is an increased reduction in A1c (adding sitagliptin has a beneficial effect.)\n",
    "\n",
    "There have been other studies to test the effect of sitagliptin and metformin (the “Efficib” drug). Based on these studies, the [European Medicines Agency approved Efficib for use in the European Union](https://www.ema.europa.eu/en/medicines/human/EPAR/efficib)."
   ]
  },
  {
   "cell_type": "markdown",
   "metadata": {},
   "source": [
    "Notice that in this case, we could have used a test for the follwing hypothesis:\n",
    "    \n",
    "$$H_0: u_{\\text{ucla}} = u_{\\text{amazon}}\\quad\\text{vs}\\quad H_1: u_{\\text{ucla}} > u_{\\text{amazon}}$$\n",
    "\n",
    "which could be transformed into\n",
    "\n",
    "$$H_0: u_{\\text{ucla}} - u_{\\text{amazon}} = 0 \\quad\\text{vs}\\quad H_1: u_{\\text{ucla}} - u_{\\text{amazon}} > 0$$\n",
    "\n",
    "so that\n",
    "\n",
    "$$H_0: u_{\\text{diff}} = 0 \\quad\\text{vs}\\quad H_1: u_{\\text{diff}}> 0$$\n",
    "\n",
    "Which is a one-sample one-sided hypothesis."
   ]
  },
  {
   "cell_type": "markdown",
   "metadata": {},
   "source": [
    "### Example 7:\n",
    "\n",
    "The file `./data/textbooks.csv` contain [information](https://www.openintro.org/data/index.php?data=textbooks) about books that can be found both in the UCLA Bookstore and in Amazon. It looks like Amazon prices are, on average, lower than those of the UCLA Bookstore.\n",
    "\n",
    "<div class=\"alert alert-block alert-info\">\n",
    "Is this statement valid for a $0.05$ condifence level?\n",
    "</div>\n",
    "\n",
    "Hint: You might find the function [`ttest_rel`](https://docs.scipy.org/doc/scipy/reference/generated/scipy.stats.ttest_rel.html) useful."
   ]
  },
  {
   "cell_type": "code",
   "execution_count": 8,
   "metadata": {},
   "outputs": [
    {
     "data": {
      "text/html": [
       "<div>\n",
       "<style scoped>\n",
       "    .dataframe tbody tr th:only-of-type {\n",
       "        vertical-align: middle;\n",
       "    }\n",
       "\n",
       "    .dataframe tbody tr th {\n",
       "        vertical-align: top;\n",
       "    }\n",
       "\n",
       "    .dataframe thead th {\n",
       "        text-align: right;\n",
       "    }\n",
       "</style>\n",
       "<table border=\"1\" class=\"dataframe\">\n",
       "  <thead>\n",
       "    <tr style=\"text-align: right;\">\n",
       "      <th></th>\n",
       "      <th>dept_abbr</th>\n",
       "      <th>course</th>\n",
       "      <th>isbn</th>\n",
       "      <th>ucla_new</th>\n",
       "      <th>amaz_new</th>\n",
       "      <th>more</th>\n",
       "      <th>diff</th>\n",
       "    </tr>\n",
       "  </thead>\n",
       "  <tbody>\n",
       "    <tr>\n",
       "      <th>0</th>\n",
       "      <td>Am Ind</td>\n",
       "      <td>C170</td>\n",
       "      <td>978-0803272620</td>\n",
       "      <td>27.67</td>\n",
       "      <td>27.95</td>\n",
       "      <td>Y</td>\n",
       "      <td>-0.28</td>\n",
       "    </tr>\n",
       "    <tr>\n",
       "      <th>1</th>\n",
       "      <td>Anthro</td>\n",
       "      <td>9</td>\n",
       "      <td>978-0030119194</td>\n",
       "      <td>40.59</td>\n",
       "      <td>31.14</td>\n",
       "      <td>Y</td>\n",
       "      <td>9.45</td>\n",
       "    </tr>\n",
       "    <tr>\n",
       "      <th>2</th>\n",
       "      <td>Anthro</td>\n",
       "      <td>135T</td>\n",
       "      <td>978-0300080643</td>\n",
       "      <td>31.68</td>\n",
       "      <td>32.00</td>\n",
       "      <td>Y</td>\n",
       "      <td>-0.32</td>\n",
       "    </tr>\n",
       "    <tr>\n",
       "      <th>3</th>\n",
       "      <td>Anthro</td>\n",
       "      <td>191HB</td>\n",
       "      <td>978-0226206813</td>\n",
       "      <td>16.00</td>\n",
       "      <td>11.52</td>\n",
       "      <td>Y</td>\n",
       "      <td>4.48</td>\n",
       "    </tr>\n",
       "    <tr>\n",
       "      <th>4</th>\n",
       "      <td>Art His</td>\n",
       "      <td>M102K</td>\n",
       "      <td>978-0892365999</td>\n",
       "      <td>18.95</td>\n",
       "      <td>14.21</td>\n",
       "      <td>Y</td>\n",
       "      <td>4.74</td>\n",
       "    </tr>\n",
       "  </tbody>\n",
       "</table>\n",
       "</div>"
      ],
      "text/plain": [
       "  dept_abbr course            isbn  ucla_new  amaz_new more  diff\n",
       "0    Am Ind   C170  978-0803272620     27.67     27.95    Y -0.28\n",
       "1    Anthro      9  978-0030119194     40.59     31.14    Y  9.45\n",
       "2    Anthro   135T  978-0300080643     31.68     32.00    Y -0.32\n",
       "3    Anthro  191HB  978-0226206813     16.00     11.52    Y  4.48\n",
       "4   Art His  M102K  978-0892365999     18.95     14.21    Y  4.74"
      ]
     },
     "execution_count": 8,
     "metadata": {},
     "output_type": "execute_result"
    }
   ],
   "source": [
    "books.head()"
   ]
  },
  {
   "cell_type": "code",
   "execution_count": 10,
   "metadata": {},
   "outputs": [
    {
     "name": "stdout",
     "output_type": "stream",
     "text": [
      "12.76164383561644\n",
      "14.255300769820737\n",
      "14.255300769820739\n"
     ]
    }
   ],
   "source": [
    "books = pd.read_csv('C:\\\\Users\\\\riul0\\\\Desktop\\\\Inference\\\\inference_prof\\\\inference\\\\data\\\\textbooks.csv')\n",
    "diffs = books['diff'].values\n",
    "n = len(diffs) \n",
    "diff_est = diffs.mean()\n",
    "print(diff_est)\n",
    "\n",
    "\n",
    "d_minus_d_est = []\n",
    "for i in range(0,n):\n",
    "    \n",
    "    d_minus_d_est.append((diffs[i]-diff_est)**2)\n",
    "    \n",
    "    \n",
    "    \n",
    "d_minus_d_est = sum(d_minus_d_est)\n",
    "s_est_2 = d_minus_d_est/(n-1)\n",
    "s_est = np.sqrt(s_est_2)\n",
    "print(s_est)\n",
    "\n",
    "\n",
    "s = np.std(diffs,ddof=1)\n",
    "print(s)\n",
    "\n",
    "# Your p-value solution should be: 6.927581126065543e-11"
   ]
  },
  {
   "cell_type": "code",
   "execution_count": 96,
   "metadata": {},
   "outputs": [
    {
     "name": "stdout",
     "output_type": "stream",
     "text": [
      "7.648771112479754\n"
     ]
    }
   ],
   "source": [
    "t = diff_est*(np.sqrt(n))/(s)\n",
    "print(t)"
   ]
  },
  {
   "cell_type": "code",
   "execution_count": 100,
   "metadata": {},
   "outputs": [
    {
     "name": "stdout",
     "output_type": "stream",
     "text": [
      "-1.9934635662785831\n",
      "1.9934635662785827\n"
     ]
    }
   ],
   "source": [
    "from scipy.stats import t\n",
    "alpha = 0.05\n",
    "print(t(df=n-1).ppf((alpha/2)))\n",
    "print(t(df=n-1).ppf((1-alpha/2)))"
   ]
  },
  {
   "cell_type": "code",
   "execution_count": 103,
   "metadata": {},
   "outputs": [
    {
     "data": {
      "text/plain": [
       "6.927569629056052e-11"
      ]
     },
     "execution_count": 103,
     "metadata": {},
     "output_type": "execute_result"
    }
   ],
   "source": [
    "from scipy.stats import t\n",
    "2*(1-t(df=n-1).cdf(7.64877111))"
   ]
  },
  {
   "cell_type": "code",
   "execution_count": 44,
   "metadata": {},
   "outputs": [],
   "source": [
    "books.head()\n",
    "ucla = books['ucla_new']\n",
    "amaz = books['amaz_new']"
   ]
  },
  {
   "cell_type": "code",
   "execution_count": 45,
   "metadata": {},
   "outputs": [
    {
     "name": "stdout",
     "output_type": "stream",
     "text": [
      "72.22191780821916\n",
      "59.46027397260274\n"
     ]
    }
   ],
   "source": [
    "print(ucla.mean())\n",
    "print(amaz.mean())"
   ]
  },
  {
   "cell_type": "code",
   "execution_count": 61,
   "metadata": {},
   "outputs": [
    {
     "data": {
      "text/plain": [
       "Ttest_relResult(statistic=7.648771112479753, pvalue=6.927581126065491e-11)"
      ]
     },
     "execution_count": 61,
     "metadata": {},
     "output_type": "execute_result"
    }
   ],
   "source": [
    "from scipy.stats import ttest_rel\n",
    "ttest_rel(ucla, amaz, axis=0, nan_policy='propagate')"
   ]
  },
  {
   "cell_type": "markdown",
   "metadata": {},
   "source": [
    "# References\n",
    "\n",
    "The examples from this notebook have been extracted from:\n",
    "\n",
    "- [MAS113 Part 2: Data Science](http://www.jeremy-oakley.staff.shef.ac.uk/mas113/notes/), Jeremy-oakley. Chapter 7.\n",
    "- [Statistical Inference for Data Science](https://leanpub.com/LittleInferenceBook/read#leanpub-auto-exercises-8). Brian Caffo. Chapter 9.\n",
    "- [OpenIntro Statistics](https://www.openintro.org/book/os/). D. Díez, M Cetinkaya-Rundel and CD Barr. Chapter 7."
   ]
  }
 ],
 "metadata": {
  "kernelspec": {
   "display_name": "Python 3",
   "language": "python",
   "name": "python3"
  },
  "language_info": {
   "codemirror_mode": {
    "name": "ipython",
    "version": 3
   },
   "file_extension": ".py",
   "mimetype": "text/x-python",
   "name": "python",
   "nbconvert_exporter": "python",
   "pygments_lexer": "ipython3",
   "version": "3.8.3"
  }
 },
 "nbformat": 4,
 "nbformat_minor": 2
}
