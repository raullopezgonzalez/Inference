{
 "cells": [
  {
   "cell_type": "markdown",
   "metadata": {},
   "source": [
    "This notebook, by [felipe.alonso@urjc.es](mailto:felipe.alonso@urjc.es) and [jorge.calero@urjc.es](mailto:jorge.calero@urjc.es)\n",
    "\n",
    "This notebook is an introduction to descriptive statistics using pandas. The first step when working with data is to perform an exploratory analysis to get some intuitions about how data is distributed. \n",
    "\n",
    "\n",
    "# 1. Load libraries"
   ]
  },
  {
   "cell_type": "code",
   "execution_count": 1,
   "metadata": {},
   "outputs": [],
   "source": [
    "import pandas as pd #To manipulate data. The equivalent of excel\n",
    "import numpy as np\n",
    "import matplotlib.pyplot as plt\n",
    "%matplotlib inline"
   ]
  },
  {
   "cell_type": "markdown",
   "metadata": {},
   "source": [
    "Difference between both is the existence of indexes"
   ]
  },
  {
   "cell_type": "markdown",
   "metadata": {},
   "source": [
    "# 2. Pandas\n",
    "\n",
    "The pandas library includes two types of data structures:\n",
    "\n",
    "- [**Series**](https://pandas.pydata.org/pandas-docs/stable/reference/api/pandas.Series.html) which are one-dimensional ndarray with axis labels (including time series)\n",
    "- [**DataFrames**](https://pandas.pydata.org/pandas-docs/stable/reference/api/pandas.DataFrame.html#pandas.DataFrame): Two-dimensional size-mutable, potentially heterogeneous tabular data structure with labeled axes (rows and columns). Arithmetic operations align on both row and column labels. Can be thought of as a dict-like container for Series objects. The primary pandas data structure.\n",
    "\n",
    "Let's see some examples.\n",
    "\n",
    "## 2.1 Series"
   ]
  },
  {
   "cell_type": "code",
   "execution_count": 2,
   "metadata": {},
   "outputs": [
    {
     "name": "stdout",
     "output_type": "stream",
     "text": [
      "0          1\n",
      "1          2\n",
      "2          3\n",
      "3    catorce\n",
      "dtype: object\n"
     ]
    }
   ],
   "source": [
    "s = pd.Series([1,2,3,\"catorce\"])\n",
    "print(s)"
   ]
  },
  {
   "cell_type": "code",
   "execution_count": 3,
   "metadata": {},
   "outputs": [
    {
     "data": {
      "text/plain": [
       "RangeIndex(start=0, stop=4, step=1)"
      ]
     },
     "execution_count": 3,
     "metadata": {},
     "output_type": "execute_result"
    }
   ],
   "source": [
    " s.index\n",
    "# s[3]\n",
    "# s[0:3]\n",
    "# s.values\n",
    "# s.values * 2"
   ]
  },
  {
   "cell_type": "code",
   "execution_count": 4,
   "metadata": {},
   "outputs": [
    {
     "data": {
      "text/plain": [
       "'catorce'"
      ]
     },
     "execution_count": 4,
     "metadata": {},
     "output_type": "execute_result"
    }
   ],
   "source": [
    "s[3]"
   ]
  },
  {
   "cell_type": "code",
   "execution_count": 6,
   "metadata": {},
   "outputs": [
    {
     "data": {
      "text/plain": [
       "0    1\n",
       "1    2\n",
       "2    3\n",
       "dtype: object"
      ]
     },
     "execution_count": 6,
     "metadata": {},
     "output_type": "execute_result"
    }
   ],
   "source": [
    "s[0:3]"
   ]
  },
  {
   "cell_type": "code",
   "execution_count": 7,
   "metadata": {},
   "outputs": [
    {
     "data": {
      "text/plain": [
       "array([1, 2, 3, 'catorce'], dtype=object)"
      ]
     },
     "execution_count": 7,
     "metadata": {},
     "output_type": "execute_result"
    }
   ],
   "source": [
    "s.values"
   ]
  },
  {
   "cell_type": "code",
   "execution_count": 8,
   "metadata": {},
   "outputs": [
    {
     "data": {
      "text/plain": [
       "array([2, 4, 6, 'catorcecatorce'], dtype=object)"
      ]
     },
     "execution_count": 8,
     "metadata": {},
     "output_type": "execute_result"
    }
   ],
   "source": [
    "s.values * 2"
   ]
  },
  {
   "cell_type": "code",
   "execution_count": 9,
   "metadata": {},
   "outputs": [
    {
     "data": {
      "text/plain": [
       "0                 2\n",
       "1                 4\n",
       "2                 6\n",
       "3    catorcecatorce\n",
       "dtype: object"
      ]
     },
     "execution_count": 9,
     "metadata": {},
     "output_type": "execute_result"
    }
   ],
   "source": [
    "s * 2"
   ]
  },
  {
   "cell_type": "markdown",
   "metadata": {},
   "source": [
    "-----------------------------------------------------"
   ]
  },
  {
   "cell_type": "markdown",
   "metadata": {},
   "source": [
    "Indexes can be easily changed"
   ]
  },
  {
   "cell_type": "code",
   "execution_count": 10,
   "metadata": {},
   "outputs": [
    {
     "name": "stdout",
     "output_type": "stream",
     "text": [
      "hola           1\n",
      "que            2\n",
      "tal            3\n",
      "estas    catorce\n",
      "dtype: object\n"
     ]
    }
   ],
   "source": [
    "s = pd.Series(data =[1,2,3,\"catorce\"], index = ['hola','que','tal','estas'])\n",
    "print(s)"
   ]
  },
  {
   "cell_type": "code",
   "execution_count": 11,
   "metadata": {},
   "outputs": [
    {
     "data": {
      "text/plain": [
       "1"
      ]
     },
     "execution_count": 11,
     "metadata": {},
     "output_type": "execute_result"
    }
   ],
   "source": [
    " s['hola']\n",
    "# s[0]\n",
    "# s[0:3]"
   ]
  },
  {
   "cell_type": "code",
   "execution_count": 13,
   "metadata": {},
   "outputs": [
    {
     "data": {
      "text/plain": [
       "1"
      ]
     },
     "execution_count": 13,
     "metadata": {},
     "output_type": "execute_result"
    }
   ],
   "source": [
    "s[0] #I can still getting info by indexing"
   ]
  },
  {
   "cell_type": "code",
   "execution_count": 12,
   "metadata": {},
   "outputs": [
    {
     "data": {
      "text/plain": [
       "hola    1\n",
       "que     2\n",
       "tal     3\n",
       "dtype: object"
      ]
     },
     "execution_count": 12,
     "metadata": {},
     "output_type": "execute_result"
    }
   ],
   "source": [
    "s[0:3]"
   ]
  },
  {
   "cell_type": "markdown",
   "metadata": {},
   "source": [
    "## 2.2 DataFrames"
   ]
  },
  {
   "cell_type": "markdown",
   "metadata": {},
   "source": [
    "[DataFrames](https://pandas.pydata.org/pandas-docs/stable/reference/api/pandas.DataFrame.html#pandas.DataFrame) can be constructed by using:\n",
    "\n",
    "- Numpy ndarray\n",
    "- Dictionaries"
   ]
  },
  {
   "cell_type": "code",
   "execution_count": 3,
   "metadata": {},
   "outputs": [
    {
     "data": {
      "text/html": [
       "<div>\n",
       "<style scoped>\n",
       "    .dataframe tbody tr th:only-of-type {\n",
       "        vertical-align: middle;\n",
       "    }\n",
       "\n",
       "    .dataframe tbody tr th {\n",
       "        vertical-align: top;\n",
       "    }\n",
       "\n",
       "    .dataframe thead th {\n",
       "        text-align: right;\n",
       "    }\n",
       "</style>\n",
       "<table border=\"1\" class=\"dataframe\">\n",
       "  <thead>\n",
       "    <tr style=\"text-align: right;\">\n",
       "      <th></th>\n",
       "      <th>a</th>\n",
       "      <th>b</th>\n",
       "      <th>c</th>\n",
       "    </tr>\n",
       "  </thead>\n",
       "  <tbody>\n",
       "    <tr>\n",
       "      <th>0</th>\n",
       "      <td>1</td>\n",
       "      <td>2</td>\n",
       "      <td>3</td>\n",
       "    </tr>\n",
       "    <tr>\n",
       "      <th>1</th>\n",
       "      <td>4</td>\n",
       "      <td>5</td>\n",
       "      <td>6</td>\n",
       "    </tr>\n",
       "    <tr>\n",
       "      <th>2</th>\n",
       "      <td>7</td>\n",
       "      <td>8</td>\n",
       "      <td>9</td>\n",
       "    </tr>\n",
       "  </tbody>\n",
       "</table>\n",
       "</div>"
      ],
      "text/plain": [
       "   a  b  c\n",
       "0  1  2  3\n",
       "1  4  5  6\n",
       "2  7  8  9"
      ]
     },
     "execution_count": 3,
     "metadata": {},
     "output_type": "execute_result"
    }
   ],
   "source": [
    "# from Numpy ndarray\n",
    "df = pd.DataFrame(np.array([[1, 2, 3], [4, 5, 6], [7, 8, 9]]),columns=['a', 'b', 'c'])\n",
    "df"
   ]
  },
  {
   "cell_type": "code",
   "execution_count": 37,
   "metadata": {},
   "outputs": [
    {
     "data": {
      "text/html": [
       "<div>\n",
       "<style scoped>\n",
       "    .dataframe tbody tr th:only-of-type {\n",
       "        vertical-align: middle;\n",
       "    }\n",
       "\n",
       "    .dataframe tbody tr th {\n",
       "        vertical-align: top;\n",
       "    }\n",
       "\n",
       "    .dataframe thead th {\n",
       "        text-align: right;\n",
       "    }\n",
       "</style>\n",
       "<table border=\"1\" class=\"dataframe\">\n",
       "  <thead>\n",
       "    <tr style=\"text-align: right;\">\n",
       "      <th></th>\n",
       "      <th>name</th>\n",
       "      <th>surname</th>\n",
       "      <th>year_of_birth</th>\n",
       "    </tr>\n",
       "  </thead>\n",
       "  <tbody>\n",
       "    <tr>\n",
       "      <th>0</th>\n",
       "      <td>Freddie</td>\n",
       "      <td>Mercury</td>\n",
       "      <td>1946</td>\n",
       "    </tr>\n",
       "    <tr>\n",
       "      <th>1</th>\n",
       "      <td>Roger</td>\n",
       "      <td>Taylor</td>\n",
       "      <td>1949</td>\n",
       "    </tr>\n",
       "    <tr>\n",
       "      <th>2</th>\n",
       "      <td>Brian</td>\n",
       "      <td>May</td>\n",
       "      <td>1947</td>\n",
       "    </tr>\n",
       "    <tr>\n",
       "      <th>3</th>\n",
       "      <td>John</td>\n",
       "      <td>Deacon</td>\n",
       "      <td>1951</td>\n",
       "    </tr>\n",
       "  </tbody>\n",
       "</table>\n",
       "</div>"
      ],
      "text/plain": [
       "      name  surname  year_of_birth\n",
       "0  Freddie  Mercury           1946\n",
       "1    Roger   Taylor           1949\n",
       "2    Brian      May           1947\n",
       "3     John   Deacon           1951"
      ]
     },
     "execution_count": 37,
     "metadata": {},
     "output_type": "execute_result"
    }
   ],
   "source": [
    "# from dictionary\n",
    "queen_dict = {}\n",
    "queen_dict[\"name\"]=[\"Freddie\" ,\"Roger\", \"Brian\", \"John\"]\n",
    "queen_dict[\"surname\"] = [\"Mercury\",\"Taylor\", \"May\", \"Deacon\"]\n",
    "queen_dict[\"year_of_birth\"]= [1946,1949, 1947, 1951]\n",
    "\n",
    "queen_df = pd.DataFrame(data = queen_dict)\n",
    "queen_df"
   ]
  },
  {
   "cell_type": "markdown",
   "metadata": {},
   "source": [
    "### Pandas operations"
   ]
  },
  {
   "cell_type": "code",
   "execution_count": 23,
   "metadata": {},
   "outputs": [
    {
     "data": {
      "text/plain": [
       "Index(['name', 'surname', 'year_of_birth'], dtype='object')"
      ]
     },
     "execution_count": 23,
     "metadata": {},
     "output_type": "execute_result"
    }
   ],
   "source": [
    "#This are main properties\n",
    "#queen_df.index\n",
    "queen_df.columns\n",
    "#queen_df.shape"
   ]
  },
  {
   "cell_type": "code",
   "execution_count": 24,
   "metadata": {},
   "outputs": [
    {
     "data": {
      "text/plain": [
       "RangeIndex(start=0, stop=4, step=1)"
      ]
     },
     "execution_count": 24,
     "metadata": {},
     "output_type": "execute_result"
    }
   ],
   "source": [
    "queen_df.index"
   ]
  },
  {
   "cell_type": "code",
   "execution_count": 25,
   "metadata": {},
   "outputs": [
    {
     "data": {
      "text/plain": [
       "(4, 3)"
      ]
     },
     "execution_count": 25,
     "metadata": {},
     "output_type": "execute_result"
    }
   ],
   "source": [
    "queen_df.shape #Rows, columns"
   ]
  },
  {
   "cell_type": "code",
   "execution_count": 35,
   "metadata": {},
   "outputs": [
    {
     "data": {
      "text/html": [
       "<div>\n",
       "<style scoped>\n",
       "    .dataframe tbody tr th:only-of-type {\n",
       "        vertical-align: middle;\n",
       "    }\n",
       "\n",
       "    .dataframe tbody tr th {\n",
       "        vertical-align: top;\n",
       "    }\n",
       "\n",
       "    .dataframe thead th {\n",
       "        text-align: right;\n",
       "    }\n",
       "</style>\n",
       "<table border=\"1\" class=\"dataframe\">\n",
       "  <thead>\n",
       "    <tr style=\"text-align: right;\">\n",
       "      <th></th>\n",
       "      <th>name</th>\n",
       "      <th>surname</th>\n",
       "      <th>year_of_birth</th>\n",
       "    </tr>\n",
       "  </thead>\n",
       "  <tbody>\n",
       "    <tr>\n",
       "      <th>voice</th>\n",
       "      <td>Freddie</td>\n",
       "      <td>Mercury</td>\n",
       "      <td>1946</td>\n",
       "    </tr>\n",
       "    <tr>\n",
       "      <th>drums</th>\n",
       "      <td>Roger</td>\n",
       "      <td>Taylor</td>\n",
       "      <td>1949</td>\n",
       "    </tr>\n",
       "    <tr>\n",
       "      <th>guitar</th>\n",
       "      <td>Brian</td>\n",
       "      <td>May</td>\n",
       "      <td>1947</td>\n",
       "    </tr>\n",
       "    <tr>\n",
       "      <th>bass</th>\n",
       "      <td>John</td>\n",
       "      <td>Deacon</td>\n",
       "      <td>1951</td>\n",
       "    </tr>\n",
       "  </tbody>\n",
       "</table>\n",
       "</div>"
      ],
      "text/plain": [
       "           name  surname  year_of_birth\n",
       "voice   Freddie  Mercury           1946\n",
       "drums     Roger   Taylor           1949\n",
       "guitar    Brian      May           1947\n",
       "bass       John   Deacon           1951"
      ]
     },
     "execution_count": 35,
     "metadata": {},
     "output_type": "execute_result"
    }
   ],
   "source": [
    "# change index\n",
    "queen_df.index = ['voice','drums','guitar','bass']\n",
    "queen_df"
   ]
  },
  {
   "cell_type": "code",
   "execution_count": 27,
   "metadata": {},
   "outputs": [
    {
     "data": {
      "text/html": [
       "<div>\n",
       "<style scoped>\n",
       "    .dataframe tbody tr th:only-of-type {\n",
       "        vertical-align: middle;\n",
       "    }\n",
       "\n",
       "    .dataframe tbody tr th {\n",
       "        vertical-align: top;\n",
       "    }\n",
       "\n",
       "    .dataframe thead th {\n",
       "        text-align: right;\n",
       "    }\n",
       "</style>\n",
       "<table border=\"1\" class=\"dataframe\">\n",
       "  <thead>\n",
       "    <tr style=\"text-align: right;\">\n",
       "      <th></th>\n",
       "      <th>index</th>\n",
       "      <th>name</th>\n",
       "      <th>surname</th>\n",
       "      <th>year_of_birth</th>\n",
       "    </tr>\n",
       "  </thead>\n",
       "  <tbody>\n",
       "    <tr>\n",
       "      <th>0</th>\n",
       "      <td>voice</td>\n",
       "      <td>Freddie</td>\n",
       "      <td>Mercury</td>\n",
       "      <td>1946</td>\n",
       "    </tr>\n",
       "    <tr>\n",
       "      <th>1</th>\n",
       "      <td>drums</td>\n",
       "      <td>Roger</td>\n",
       "      <td>Taylor</td>\n",
       "      <td>1949</td>\n",
       "    </tr>\n",
       "    <tr>\n",
       "      <th>2</th>\n",
       "      <td>guitar</td>\n",
       "      <td>Brian</td>\n",
       "      <td>May</td>\n",
       "      <td>1947</td>\n",
       "    </tr>\n",
       "    <tr>\n",
       "      <th>3</th>\n",
       "      <td>bass</td>\n",
       "      <td>John</td>\n",
       "      <td>Deacon</td>\n",
       "      <td>1951</td>\n",
       "    </tr>\n",
       "  </tbody>\n",
       "</table>\n",
       "</div>"
      ],
      "text/plain": [
       "    index     name  surname  year_of_birth\n",
       "0   voice  Freddie  Mercury           1946\n",
       "1   drums    Roger   Taylor           1949\n",
       "2  guitar    Brian      May           1947\n",
       "3    bass     John   Deacon           1951"
      ]
     },
     "execution_count": 27,
     "metadata": {},
     "output_type": "execute_result"
    }
   ],
   "source": [
    "# reset index\n",
    "queen_df.reset_index()\n",
    "#queen_df.reset_index(drop = True)"
   ]
  },
  {
   "cell_type": "code",
   "execution_count": 28,
   "metadata": {},
   "outputs": [
    {
     "data": {
      "text/html": [
       "<div>\n",
       "<style scoped>\n",
       "    .dataframe tbody tr th:only-of-type {\n",
       "        vertical-align: middle;\n",
       "    }\n",
       "\n",
       "    .dataframe tbody tr th {\n",
       "        vertical-align: top;\n",
       "    }\n",
       "\n",
       "    .dataframe thead th {\n",
       "        text-align: right;\n",
       "    }\n",
       "</style>\n",
       "<table border=\"1\" class=\"dataframe\">\n",
       "  <thead>\n",
       "    <tr style=\"text-align: right;\">\n",
       "      <th></th>\n",
       "      <th>surname</th>\n",
       "      <th>year_of_birth</th>\n",
       "    </tr>\n",
       "    <tr>\n",
       "      <th>name</th>\n",
       "      <th></th>\n",
       "      <th></th>\n",
       "    </tr>\n",
       "  </thead>\n",
       "  <tbody>\n",
       "    <tr>\n",
       "      <th>Freddie</th>\n",
       "      <td>Mercury</td>\n",
       "      <td>1946</td>\n",
       "    </tr>\n",
       "    <tr>\n",
       "      <th>Roger</th>\n",
       "      <td>Taylor</td>\n",
       "      <td>1949</td>\n",
       "    </tr>\n",
       "    <tr>\n",
       "      <th>Brian</th>\n",
       "      <td>May</td>\n",
       "      <td>1947</td>\n",
       "    </tr>\n",
       "    <tr>\n",
       "      <th>John</th>\n",
       "      <td>Deacon</td>\n",
       "      <td>1951</td>\n",
       "    </tr>\n",
       "  </tbody>\n",
       "</table>\n",
       "</div>"
      ],
      "text/plain": [
       "         surname  year_of_birth\n",
       "name                           \n",
       "Freddie  Mercury           1946\n",
       "Roger     Taylor           1949\n",
       "Brian        May           1947\n",
       "John      Deacon           1951"
      ]
     },
     "execution_count": 28,
     "metadata": {},
     "output_type": "execute_result"
    }
   ],
   "source": [
    "# set index\n",
    "queen_df.set_index('name',inplace = True)\n",
    "queen_df"
   ]
  },
  {
   "cell_type": "code",
   "execution_count": 32,
   "metadata": {},
   "outputs": [
    {
     "data": {
      "text/plain": [
       "0    Freddie\n",
       "1      Roger\n",
       "2      Brian\n",
       "3       John\n",
       "Name: name, dtype: object"
      ]
     },
     "execution_count": 32,
     "metadata": {},
     "output_type": "execute_result"
    }
   ],
   "source": [
    "# Get column values\n",
    "queen_df['name'] # note that this is a Series\n",
    "#queen_df['name'].values"
   ]
  },
  {
   "cell_type": "code",
   "execution_count": 33,
   "metadata": {},
   "outputs": [
    {
     "data": {
      "text/html": [
       "<div>\n",
       "<style scoped>\n",
       "    .dataframe tbody tr th:only-of-type {\n",
       "        vertical-align: middle;\n",
       "    }\n",
       "\n",
       "    .dataframe tbody tr th {\n",
       "        vertical-align: top;\n",
       "    }\n",
       "\n",
       "    .dataframe thead th {\n",
       "        text-align: right;\n",
       "    }\n",
       "</style>\n",
       "<table border=\"1\" class=\"dataframe\">\n",
       "  <thead>\n",
       "    <tr style=\"text-align: right;\">\n",
       "      <th></th>\n",
       "      <th>surname</th>\n",
       "      <th>name</th>\n",
       "    </tr>\n",
       "  </thead>\n",
       "  <tbody>\n",
       "    <tr>\n",
       "      <th>0</th>\n",
       "      <td>Mercury</td>\n",
       "      <td>Freddie</td>\n",
       "    </tr>\n",
       "    <tr>\n",
       "      <th>1</th>\n",
       "      <td>Taylor</td>\n",
       "      <td>Roger</td>\n",
       "    </tr>\n",
       "    <tr>\n",
       "      <th>2</th>\n",
       "      <td>May</td>\n",
       "      <td>Brian</td>\n",
       "    </tr>\n",
       "    <tr>\n",
       "      <th>3</th>\n",
       "      <td>Deacon</td>\n",
       "      <td>John</td>\n",
       "    </tr>\n",
       "  </tbody>\n",
       "</table>\n",
       "</div>"
      ],
      "text/plain": [
       "   surname     name\n",
       "0  Mercury  Freddie\n",
       "1   Taylor    Roger\n",
       "2      May    Brian\n",
       "3   Deacon     John"
      ]
     },
     "execution_count": 33,
     "metadata": {},
     "output_type": "execute_result"
    }
   ],
   "source": [
    "# Get several columns\n",
    "queen_df[['surname','name']] # note that this is a DataFrame\n",
    "#queen_df[['surname','name']].values"
   ]
  },
  {
   "cell_type": "code",
   "execution_count": 36,
   "metadata": {},
   "outputs": [
    {
     "data": {
      "text/plain": [
       "name             Freddie\n",
       "surname          Mercury\n",
       "year_of_birth       1946\n",
       "Name: voice, dtype: object"
      ]
     },
     "execution_count": 36,
     "metadata": {},
     "output_type": "execute_result"
    }
   ],
   "source": [
    "#I have to change indexes so it works with voice example \n",
    "# Get rows\n",
    "queen_df.loc['voice']\n",
    "\n",
    "#queen_df.loc['voice'].values\n",
    "#queen_df.loc[['voice','drums'],'name']\n",
    "#queen_df.loc[['voice','drums'],['name','surname']]\n",
    "#queen_df.iloc[0]\n",
    "#queen_df.iloc[0:2]\n",
    "#queen_df.iloc[0:2,1:]"
   ]
  },
  {
   "cell_type": "code",
   "execution_count": 38,
   "metadata": {},
   "outputs": [
    {
     "data": {
      "text/plain": [
       "name             Freddie\n",
       "surname          Mercury\n",
       "year_of_birth       1946\n",
       "Name: 0, dtype: object"
      ]
     },
     "execution_count": 38,
     "metadata": {},
     "output_type": "execute_result"
    }
   ],
   "source": [
    "#Now with simple index\n",
    "queen_df.loc[0]"
   ]
  },
  {
   "cell_type": "markdown",
   "metadata": {},
   "source": [
    "# 3. Load data in Pandas"
   ]
  },
  {
   "cell_type": "markdown",
   "metadata": {},
   "source": [
    "## Exercise done in teacher's notebook, pero ya he resuelto el problema del path"
   ]
  },
  {
   "cell_type": "code",
   "execution_count": 6,
   "metadata": {},
   "outputs": [
    {
     "data": {
      "text/plain": [
       "(173, 9)"
      ]
     },
     "execution_count": 6,
     "metadata": {},
     "output_type": "execute_result"
    }
   ],
   "source": [
    "df = pd.read_csv('C:\\\\Users\\\\riul0\\\\Desktop\\\\Inference\\\\inference_prof\\\\inference\\\\data\\Datos.csv', sep=\";\", decimal=',')\n",
    "df.shape"
   ]
  },
  {
   "cell_type": "code",
   "execution_count": 7,
   "metadata": {},
   "outputs": [
    {
     "data": {
      "text/html": [
       "<div>\n",
       "<style scoped>\n",
       "    .dataframe tbody tr th:only-of-type {\n",
       "        vertical-align: middle;\n",
       "    }\n",
       "\n",
       "    .dataframe tbody tr th {\n",
       "        vertical-align: top;\n",
       "    }\n",
       "\n",
       "    .dataframe thead th {\n",
       "        text-align: right;\n",
       "    }\n",
       "</style>\n",
       "<table border=\"1\" class=\"dataframe\">\n",
       "  <thead>\n",
       "    <tr style=\"text-align: right;\">\n",
       "      <th></th>\n",
       "      <th>Sat_fat_dr</th>\n",
       "      <th>Sat_fat_ffq</th>\n",
       "      <th>Total_fat_dr</th>\n",
       "      <th>Total_fat_ffq</th>\n",
       "      <th>Alcoh_dr</th>\n",
       "      <th>Alcoh_ffq</th>\n",
       "      <th>Calor_dr</th>\n",
       "      <th>Calor_ffq</th>\n",
       "    </tr>\n",
       "  </thead>\n",
       "  <tbody>\n",
       "    <tr>\n",
       "      <th>0</th>\n",
       "      <td>33.20</td>\n",
       "      <td>21.2</td>\n",
       "      <td>81.15</td>\n",
       "      <td>53.8</td>\n",
       "      <td>8.26</td>\n",
       "      <td>1.68</td>\n",
       "      <td>1807</td>\n",
       "      <td>1242.2</td>\n",
       "    </tr>\n",
       "    <tr>\n",
       "      <th>1</th>\n",
       "      <td>17.73</td>\n",
       "      <td>10.6</td>\n",
       "      <td>53.28</td>\n",
       "      <td>36.6</td>\n",
       "      <td>0.83</td>\n",
       "      <td>0.00</td>\n",
       "      <td>1418</td>\n",
       "      <td>907.0</td>\n",
       "    </tr>\n",
       "    <tr>\n",
       "      <th>2</th>\n",
       "      <td>38.73</td>\n",
       "      <td>23.8</td>\n",
       "      <td>83.48</td>\n",
       "      <td>47.2</td>\n",
       "      <td>20.13</td>\n",
       "      <td>15.10</td>\n",
       "      <td>1889</td>\n",
       "      <td>786.0</td>\n",
       "    </tr>\n",
       "    <tr>\n",
       "      <th>3</th>\n",
       "      <td>21.57</td>\n",
       "      <td>22.7</td>\n",
       "      <td>49.65</td>\n",
       "      <td>55.3</td>\n",
       "      <td>11.16</td>\n",
       "      <td>7.49</td>\n",
       "      <td>1426</td>\n",
       "      <td>1392.5</td>\n",
       "    </tr>\n",
       "    <tr>\n",
       "      <th>4</th>\n",
       "      <td>21.35</td>\n",
       "      <td>30.4</td>\n",
       "      <td>55.18</td>\n",
       "      <td>71.0</td>\n",
       "      <td>7.18</td>\n",
       "      <td>12.84</td>\n",
       "      <td>1253</td>\n",
       "      <td>1259.8</td>\n",
       "    </tr>\n",
       "    <tr>\n",
       "      <th>5</th>\n",
       "      <td>28.04</td>\n",
       "      <td>15.1</td>\n",
       "      <td>73.83</td>\n",
       "      <td>41.1</td>\n",
       "      <td>1.76</td>\n",
       "      <td>0.00</td>\n",
       "      <td>1699</td>\n",
       "      <td>987.1</td>\n",
       "    </tr>\n",
       "    <tr>\n",
       "      <th>6</th>\n",
       "      <td>23.17</td>\n",
       "      <td>17.8</td>\n",
       "      <td>68.29</td>\n",
       "      <td>49.1</td>\n",
       "      <td>22.66</td>\n",
       "      <td>25.06</td>\n",
       "      <td>1700</td>\n",
       "      <td>1189.9</td>\n",
       "    </tr>\n",
       "    <tr>\n",
       "      <th>7</th>\n",
       "      <td>19.73</td>\n",
       "      <td>19.1</td>\n",
       "      <td>58.30</td>\n",
       "      <td>48.9</td>\n",
       "      <td>0.00</td>\n",
       "      <td>0.00</td>\n",
       "      <td>1369</td>\n",
       "      <td>1364.1</td>\n",
       "    </tr>\n",
       "    <tr>\n",
       "      <th>8</th>\n",
       "      <td>36.31</td>\n",
       "      <td>23.4</td>\n",
       "      <td>92.58</td>\n",
       "      <td>55.4</td>\n",
       "      <td>0.00</td>\n",
       "      <td>0.00</td>\n",
       "      <td>2163</td>\n",
       "      <td>1311.4</td>\n",
       "    </tr>\n",
       "    <tr>\n",
       "      <th>9</th>\n",
       "      <td>20.87</td>\n",
       "      <td>16.0</td>\n",
       "      <td>68.44</td>\n",
       "      <td>44.2</td>\n",
       "      <td>0.00</td>\n",
       "      <td>0.00</td>\n",
       "      <td>1609</td>\n",
       "      <td>1200.6</td>\n",
       "    </tr>\n",
       "    <tr>\n",
       "      <th>10</th>\n",
       "      <td>26.40</td>\n",
       "      <td>19.4</td>\n",
       "      <td>69.16</td>\n",
       "      <td>46.6</td>\n",
       "      <td>4.75</td>\n",
       "      <td>1.06</td>\n",
       "      <td>1704</td>\n",
       "      <td>1227.4</td>\n",
       "    </tr>\n",
       "    <tr>\n",
       "      <th>11</th>\n",
       "      <td>28.26</td>\n",
       "      <td>27.4</td>\n",
       "      <td>79.42</td>\n",
       "      <td>59.7</td>\n",
       "      <td>4.57</td>\n",
       "      <td>1.81</td>\n",
       "      <td>1884</td>\n",
       "      <td>1448.1</td>\n",
       "    </tr>\n",
       "    <tr>\n",
       "      <th>12</th>\n",
       "      <td>19.81</td>\n",
       "      <td>15.8</td>\n",
       "      <td>69.59</td>\n",
       "      <td>50.5</td>\n",
       "      <td>15.12</td>\n",
       "      <td>11.14</td>\n",
       "      <td>1518</td>\n",
       "      <td>1367.7</td>\n",
       "    </tr>\n",
       "    <tr>\n",
       "      <th>13</th>\n",
       "      <td>23.48</td>\n",
       "      <td>19.9</td>\n",
       "      <td>65.86</td>\n",
       "      <td>55.6</td>\n",
       "      <td>5.37</td>\n",
       "      <td>2.57</td>\n",
       "      <td>1450</td>\n",
       "      <td>1154.4</td>\n",
       "    </tr>\n",
       "    <tr>\n",
       "      <th>14</th>\n",
       "      <td>25.62</td>\n",
       "      <td>17.4</td>\n",
       "      <td>74.22</td>\n",
       "      <td>51.7</td>\n",
       "      <td>0.00</td>\n",
       "      <td>0.00</td>\n",
       "      <td>1702</td>\n",
       "      <td>1217.7</td>\n",
       "    </tr>\n",
       "    <tr>\n",
       "      <th>15</th>\n",
       "      <td>23.59</td>\n",
       "      <td>9.5</td>\n",
       "      <td>63.44</td>\n",
       "      <td>23.4</td>\n",
       "      <td>1.89</td>\n",
       "      <td>0.76</td>\n",
       "      <td>1400</td>\n",
       "      <td>483.4</td>\n",
       "    </tr>\n",
       "    <tr>\n",
       "      <th>16</th>\n",
       "      <td>14.60</td>\n",
       "      <td>20.9</td>\n",
       "      <td>38.14</td>\n",
       "      <td>46.9</td>\n",
       "      <td>0.78</td>\n",
       "      <td>5.70</td>\n",
       "      <td>910</td>\n",
       "      <td>1056.5</td>\n",
       "    </tr>\n",
       "    <tr>\n",
       "      <th>17</th>\n",
       "      <td>20.71</td>\n",
       "      <td>27.7</td>\n",
       "      <td>49.77</td>\n",
       "      <td>70.1</td>\n",
       "      <td>8.09</td>\n",
       "      <td>10.56</td>\n",
       "      <td>1332</td>\n",
       "      <td>1265.3</td>\n",
       "    </tr>\n",
       "    <tr>\n",
       "      <th>18</th>\n",
       "      <td>28.63</td>\n",
       "      <td>15.3</td>\n",
       "      <td>80.73</td>\n",
       "      <td>35.3</td>\n",
       "      <td>37.90</td>\n",
       "      <td>35.34</td>\n",
       "      <td>1947</td>\n",
       "      <td>890.1</td>\n",
       "    </tr>\n",
       "    <tr>\n",
       "      <th>19</th>\n",
       "      <td>18.12</td>\n",
       "      <td>20.7</td>\n",
       "      <td>53.56</td>\n",
       "      <td>55.7</td>\n",
       "      <td>2.22</td>\n",
       "      <td>0.76</td>\n",
       "      <td>1428</td>\n",
       "      <td>1378.5</td>\n",
       "    </tr>\n",
       "    <tr>\n",
       "      <th>20</th>\n",
       "      <td>16.93</td>\n",
       "      <td>17.6</td>\n",
       "      <td>52.75</td>\n",
       "      <td>51.5</td>\n",
       "      <td>20.69</td>\n",
       "      <td>18.22</td>\n",
       "      <td>1557</td>\n",
       "      <td>1317.5</td>\n",
       "    </tr>\n",
       "    <tr>\n",
       "      <th>21</th>\n",
       "      <td>25.10</td>\n",
       "      <td>18.9</td>\n",
       "      <td>80.15</td>\n",
       "      <td>57.5</td>\n",
       "      <td>0.00</td>\n",
       "      <td>0.00</td>\n",
       "      <td>1788</td>\n",
       "      <td>1257.5</td>\n",
       "    </tr>\n",
       "    <tr>\n",
       "      <th>22</th>\n",
       "      <td>14.04</td>\n",
       "      <td>14.9</td>\n",
       "      <td>39.40</td>\n",
       "      <td>37.0</td>\n",
       "      <td>2.62</td>\n",
       "      <td>1.68</td>\n",
       "      <td>1098</td>\n",
       "      <td>1087.8</td>\n",
       "    </tr>\n",
       "    <tr>\n",
       "      <th>23</th>\n",
       "      <td>21.98</td>\n",
       "      <td>32.6</td>\n",
       "      <td>54.91</td>\n",
       "      <td>73.2</td>\n",
       "      <td>9.49</td>\n",
       "      <td>6.49</td>\n",
       "      <td>1362</td>\n",
       "      <td>1589.6</td>\n",
       "    </tr>\n",
       "    <tr>\n",
       "      <th>24</th>\n",
       "      <td>24.83</td>\n",
       "      <td>24.0</td>\n",
       "      <td>67.73</td>\n",
       "      <td>63.1</td>\n",
       "      <td>9.69</td>\n",
       "      <td>16.72</td>\n",
       "      <td>1562</td>\n",
       "      <td>1422.7</td>\n",
       "    </tr>\n",
       "    <tr>\n",
       "      <th>25</th>\n",
       "      <td>20.72</td>\n",
       "      <td>15.6</td>\n",
       "      <td>55.24</td>\n",
       "      <td>47.6</td>\n",
       "      <td>0.95</td>\n",
       "      <td>1.51</td>\n",
       "      <td>1286</td>\n",
       "      <td>1569.6</td>\n",
       "    </tr>\n",
       "    <tr>\n",
       "      <th>26</th>\n",
       "      <td>24.61</td>\n",
       "      <td>24.2</td>\n",
       "      <td>68.11</td>\n",
       "      <td>54.4</td>\n",
       "      <td>3.00</td>\n",
       "      <td>2.74</td>\n",
       "      <td>1529</td>\n",
       "      <td>1386.0</td>\n",
       "    </tr>\n",
       "    <tr>\n",
       "      <th>27</th>\n",
       "      <td>32.03</td>\n",
       "      <td>38.2</td>\n",
       "      <td>71.02</td>\n",
       "      <td>98.8</td>\n",
       "      <td>37.28</td>\n",
       "      <td>45.08</td>\n",
       "      <td>1810</td>\n",
       "      <td>2220.0</td>\n",
       "    </tr>\n",
       "    <tr>\n",
       "      <th>28</th>\n",
       "      <td>23.49</td>\n",
       "      <td>18.8</td>\n",
       "      <td>63.72</td>\n",
       "      <td>55.8</td>\n",
       "      <td>21.78</td>\n",
       "      <td>33.49</td>\n",
       "      <td>1606</td>\n",
       "      <td>1291.4</td>\n",
       "    </tr>\n",
       "    <tr>\n",
       "      <th>29</th>\n",
       "      <td>25.69</td>\n",
       "      <td>23.5</td>\n",
       "      <td>67.99</td>\n",
       "      <td>68.0</td>\n",
       "      <td>15.41</td>\n",
       "      <td>12.91</td>\n",
       "      <td>1363</td>\n",
       "      <td>1102.0</td>\n",
       "    </tr>\n",
       "    <tr>\n",
       "      <th>...</th>\n",
       "      <td>...</td>\n",
       "      <td>...</td>\n",
       "      <td>...</td>\n",
       "      <td>...</td>\n",
       "      <td>...</td>\n",
       "      <td>...</td>\n",
       "      <td>...</td>\n",
       "      <td>...</td>\n",
       "    </tr>\n",
       "    <tr>\n",
       "      <th>143</th>\n",
       "      <td>19.79</td>\n",
       "      <td>22.6</td>\n",
       "      <td>57.70</td>\n",
       "      <td>62.1</td>\n",
       "      <td>1.43</td>\n",
       "      <td>4.64</td>\n",
       "      <td>1299</td>\n",
       "      <td>1228.1</td>\n",
       "    </tr>\n",
       "    <tr>\n",
       "      <th>144</th>\n",
       "      <td>21.34</td>\n",
       "      <td>16.7</td>\n",
       "      <td>57.30</td>\n",
       "      <td>33.9</td>\n",
       "      <td>14.23</td>\n",
       "      <td>6.76</td>\n",
       "      <td>1524</td>\n",
       "      <td>854.3</td>\n",
       "    </tr>\n",
       "    <tr>\n",
       "      <th>145</th>\n",
       "      <td>18.79</td>\n",
       "      <td>25.7</td>\n",
       "      <td>57.33</td>\n",
       "      <td>76.6</td>\n",
       "      <td>1.39</td>\n",
       "      <td>2.87</td>\n",
       "      <td>1450</td>\n",
       "      <td>1975.8</td>\n",
       "    </tr>\n",
       "    <tr>\n",
       "      <th>146</th>\n",
       "      <td>18.63</td>\n",
       "      <td>6.6</td>\n",
       "      <td>61.11</td>\n",
       "      <td>20.7</td>\n",
       "      <td>2.98</td>\n",
       "      <td>5.70</td>\n",
       "      <td>1340</td>\n",
       "      <td>601.1</td>\n",
       "    </tr>\n",
       "    <tr>\n",
       "      <th>147</th>\n",
       "      <td>20.39</td>\n",
       "      <td>16.9</td>\n",
       "      <td>62.54</td>\n",
       "      <td>48.0</td>\n",
       "      <td>3.77</td>\n",
       "      <td>1.06</td>\n",
       "      <td>1634</td>\n",
       "      <td>1140.4</td>\n",
       "    </tr>\n",
       "    <tr>\n",
       "      <th>148</th>\n",
       "      <td>18.64</td>\n",
       "      <td>14.9</td>\n",
       "      <td>53.56</td>\n",
       "      <td>44.2</td>\n",
       "      <td>8.10</td>\n",
       "      <td>11.14</td>\n",
       "      <td>1608</td>\n",
       "      <td>1520.6</td>\n",
       "    </tr>\n",
       "    <tr>\n",
       "      <th>149</th>\n",
       "      <td>15.39</td>\n",
       "      <td>12.1</td>\n",
       "      <td>50.40</td>\n",
       "      <td>33.7</td>\n",
       "      <td>13.79</td>\n",
       "      <td>5.57</td>\n",
       "      <td>1649</td>\n",
       "      <td>922.9</td>\n",
       "    </tr>\n",
       "    <tr>\n",
       "      <th>150</th>\n",
       "      <td>31.35</td>\n",
       "      <td>24.9</td>\n",
       "      <td>91.65</td>\n",
       "      <td>72.8</td>\n",
       "      <td>28.29</td>\n",
       "      <td>39.26</td>\n",
       "      <td>2013</td>\n",
       "      <td>1394.8</td>\n",
       "    </tr>\n",
       "    <tr>\n",
       "      <th>151</th>\n",
       "      <td>23.62</td>\n",
       "      <td>23.3</td>\n",
       "      <td>62.62</td>\n",
       "      <td>59.3</td>\n",
       "      <td>15.60</td>\n",
       "      <td>10.75</td>\n",
       "      <td>1626</td>\n",
       "      <td>1706.9</td>\n",
       "    </tr>\n",
       "    <tr>\n",
       "      <th>152</th>\n",
       "      <td>27.51</td>\n",
       "      <td>42.8</td>\n",
       "      <td>81.29</td>\n",
       "      <td>112.3</td>\n",
       "      <td>6.97</td>\n",
       "      <td>6.63</td>\n",
       "      <td>1732</td>\n",
       "      <td>2447.5</td>\n",
       "    </tr>\n",
       "    <tr>\n",
       "      <th>153</th>\n",
       "      <td>41.01</td>\n",
       "      <td>18.3</td>\n",
       "      <td>114.85</td>\n",
       "      <td>41.7</td>\n",
       "      <td>0.00</td>\n",
       "      <td>0.00</td>\n",
       "      <td>2518</td>\n",
       "      <td>1323.7</td>\n",
       "    </tr>\n",
       "    <tr>\n",
       "      <th>154</th>\n",
       "      <td>15.99</td>\n",
       "      <td>20.6</td>\n",
       "      <td>48.25</td>\n",
       "      <td>50.2</td>\n",
       "      <td>8.18</td>\n",
       "      <td>6.63</td>\n",
       "      <td>1561</td>\n",
       "      <td>1399.8</td>\n",
       "    </tr>\n",
       "    <tr>\n",
       "      <th>155</th>\n",
       "      <td>17.48</td>\n",
       "      <td>18.8</td>\n",
       "      <td>50.43</td>\n",
       "      <td>46.5</td>\n",
       "      <td>0.51</td>\n",
       "      <td>0.00</td>\n",
       "      <td>1485</td>\n",
       "      <td>1739.3</td>\n",
       "    </tr>\n",
       "    <tr>\n",
       "      <th>156</th>\n",
       "      <td>31.35</td>\n",
       "      <td>35.3</td>\n",
       "      <td>76.92</td>\n",
       "      <td>75.1</td>\n",
       "      <td>7.82</td>\n",
       "      <td>12.08</td>\n",
       "      <td>1767</td>\n",
       "      <td>1627.5</td>\n",
       "    </tr>\n",
       "    <tr>\n",
       "      <th>157</th>\n",
       "      <td>17.64</td>\n",
       "      <td>17.8</td>\n",
       "      <td>45.39</td>\n",
       "      <td>38.5</td>\n",
       "      <td>6.60</td>\n",
       "      <td>11.14</td>\n",
       "      <td>1006</td>\n",
       "      <td>922.5</td>\n",
       "    </tr>\n",
       "    <tr>\n",
       "      <th>158</th>\n",
       "      <td>39.43</td>\n",
       "      <td>26.4</td>\n",
       "      <td>98.34</td>\n",
       "      <td>77.9</td>\n",
       "      <td>28.79</td>\n",
       "      <td>52.07</td>\n",
       "      <td>2085</td>\n",
       "      <td>1602.7</td>\n",
       "    </tr>\n",
       "    <tr>\n",
       "      <th>159</th>\n",
       "      <td>30.98</td>\n",
       "      <td>28.8</td>\n",
       "      <td>73.80</td>\n",
       "      <td>70.3</td>\n",
       "      <td>3.82</td>\n",
       "      <td>1.81</td>\n",
       "      <td>1588</td>\n",
       "      <td>1570.3</td>\n",
       "    </tr>\n",
       "    <tr>\n",
       "      <th>160</th>\n",
       "      <td>32.86</td>\n",
       "      <td>41.2</td>\n",
       "      <td>84.85</td>\n",
       "      <td>92.5</td>\n",
       "      <td>0.00</td>\n",
       "      <td>0.00</td>\n",
       "      <td>1682</td>\n",
       "      <td>2074.9</td>\n",
       "    </tr>\n",
       "    <tr>\n",
       "      <th>161</th>\n",
       "      <td>26.24</td>\n",
       "      <td>26.4</td>\n",
       "      <td>72.73</td>\n",
       "      <td>60.7</td>\n",
       "      <td>8.31</td>\n",
       "      <td>2.91</td>\n",
       "      <td>2121</td>\n",
       "      <td>2039.1</td>\n",
       "    </tr>\n",
       "    <tr>\n",
       "      <th>162</th>\n",
       "      <td>20.07</td>\n",
       "      <td>25.9</td>\n",
       "      <td>65.41</td>\n",
       "      <td>87.6</td>\n",
       "      <td>8.22</td>\n",
       "      <td>13.76</td>\n",
       "      <td>1568</td>\n",
       "      <td>1958.8</td>\n",
       "    </tr>\n",
       "    <tr>\n",
       "      <th>163</th>\n",
       "      <td>14.42</td>\n",
       "      <td>11.3</td>\n",
       "      <td>40.64</td>\n",
       "      <td>29.6</td>\n",
       "      <td>0.96</td>\n",
       "      <td>0.76</td>\n",
       "      <td>1216</td>\n",
       "      <td>1043.6</td>\n",
       "    </tr>\n",
       "    <tr>\n",
       "      <th>164</th>\n",
       "      <td>29.59</td>\n",
       "      <td>29.9</td>\n",
       "      <td>71.41</td>\n",
       "      <td>67.6</td>\n",
       "      <td>0.63</td>\n",
       "      <td>0.00</td>\n",
       "      <td>1612</td>\n",
       "      <td>1327.6</td>\n",
       "    </tr>\n",
       "    <tr>\n",
       "      <th>165</th>\n",
       "      <td>28.02</td>\n",
       "      <td>15.5</td>\n",
       "      <td>77.82</td>\n",
       "      <td>40.5</td>\n",
       "      <td>15.72</td>\n",
       "      <td>16.81</td>\n",
       "      <td>1827</td>\n",
       "      <td>1026.9</td>\n",
       "    </tr>\n",
       "    <tr>\n",
       "      <th>166</th>\n",
       "      <td>25.85</td>\n",
       "      <td>23.7</td>\n",
       "      <td>70.89</td>\n",
       "      <td>75.0</td>\n",
       "      <td>23.97</td>\n",
       "      <td>12.43</td>\n",
       "      <td>1721</td>\n",
       "      <td>1584.6</td>\n",
       "    </tr>\n",
       "    <tr>\n",
       "      <th>167</th>\n",
       "      <td>20.20</td>\n",
       "      <td>20.3</td>\n",
       "      <td>51.99</td>\n",
       "      <td>52.0</td>\n",
       "      <td>7.28</td>\n",
       "      <td>6.63</td>\n",
       "      <td>1467</td>\n",
       "      <td>1342.4</td>\n",
       "    </tr>\n",
       "    <tr>\n",
       "      <th>168</th>\n",
       "      <td>36.19</td>\n",
       "      <td>18.1</td>\n",
       "      <td>95.43</td>\n",
       "      <td>47.1</td>\n",
       "      <td>4.60</td>\n",
       "      <td>7.25</td>\n",
       "      <td>1976</td>\n",
       "      <td>1204.3</td>\n",
       "    </tr>\n",
       "    <tr>\n",
       "      <th>169</th>\n",
       "      <td>22.42</td>\n",
       "      <td>10.9</td>\n",
       "      <td>62.15</td>\n",
       "      <td>32.0</td>\n",
       "      <td>2.56</td>\n",
       "      <td>1.81</td>\n",
       "      <td>1731</td>\n",
       "      <td>981.6</td>\n",
       "    </tr>\n",
       "    <tr>\n",
       "      <th>170</th>\n",
       "      <td>16.98</td>\n",
       "      <td>20.4</td>\n",
       "      <td>42.85</td>\n",
       "      <td>47.5</td>\n",
       "      <td>13.91</td>\n",
       "      <td>8.64</td>\n",
       "      <td>1033</td>\n",
       "      <td>1128.3</td>\n",
       "    </tr>\n",
       "    <tr>\n",
       "      <th>171</th>\n",
       "      <td>23.98</td>\n",
       "      <td>18.5</td>\n",
       "      <td>67.43</td>\n",
       "      <td>45.9</td>\n",
       "      <td>5.39</td>\n",
       "      <td>7.19</td>\n",
       "      <td>1585</td>\n",
       "      <td>1247.5</td>\n",
       "    </tr>\n",
       "    <tr>\n",
       "      <th>172</th>\n",
       "      <td>21.39</td>\n",
       "      <td>19.0</td>\n",
       "      <td>56.70</td>\n",
       "      <td>40.4</td>\n",
       "      <td>0.60</td>\n",
       "      <td>3.49</td>\n",
       "      <td>1320</td>\n",
       "      <td>994.0</td>\n",
       "    </tr>\n",
       "  </tbody>\n",
       "</table>\n",
       "<p>173 rows × 8 columns</p>\n",
       "</div>"
      ],
      "text/plain": [
       "     Sat_fat_dr  Sat_fat_ffq  Total_fat_dr  Total_fat_ffq  Alcoh_dr  \\\n",
       "0         33.20         21.2         81.15           53.8      8.26   \n",
       "1         17.73         10.6         53.28           36.6      0.83   \n",
       "2         38.73         23.8         83.48           47.2     20.13   \n",
       "3         21.57         22.7         49.65           55.3     11.16   \n",
       "4         21.35         30.4         55.18           71.0      7.18   \n",
       "5         28.04         15.1         73.83           41.1      1.76   \n",
       "6         23.17         17.8         68.29           49.1     22.66   \n",
       "7         19.73         19.1         58.30           48.9      0.00   \n",
       "8         36.31         23.4         92.58           55.4      0.00   \n",
       "9         20.87         16.0         68.44           44.2      0.00   \n",
       "10        26.40         19.4         69.16           46.6      4.75   \n",
       "11        28.26         27.4         79.42           59.7      4.57   \n",
       "12        19.81         15.8         69.59           50.5     15.12   \n",
       "13        23.48         19.9         65.86           55.6      5.37   \n",
       "14        25.62         17.4         74.22           51.7      0.00   \n",
       "15        23.59          9.5         63.44           23.4      1.89   \n",
       "16        14.60         20.9         38.14           46.9      0.78   \n",
       "17        20.71         27.7         49.77           70.1      8.09   \n",
       "18        28.63         15.3         80.73           35.3     37.90   \n",
       "19        18.12         20.7         53.56           55.7      2.22   \n",
       "20        16.93         17.6         52.75           51.5     20.69   \n",
       "21        25.10         18.9         80.15           57.5      0.00   \n",
       "22        14.04         14.9         39.40           37.0      2.62   \n",
       "23        21.98         32.6         54.91           73.2      9.49   \n",
       "24        24.83         24.0         67.73           63.1      9.69   \n",
       "25        20.72         15.6         55.24           47.6      0.95   \n",
       "26        24.61         24.2         68.11           54.4      3.00   \n",
       "27        32.03         38.2         71.02           98.8     37.28   \n",
       "28        23.49         18.8         63.72           55.8     21.78   \n",
       "29        25.69         23.5         67.99           68.0     15.41   \n",
       "..          ...          ...           ...            ...       ...   \n",
       "143       19.79         22.6         57.70           62.1      1.43   \n",
       "144       21.34         16.7         57.30           33.9     14.23   \n",
       "145       18.79         25.7         57.33           76.6      1.39   \n",
       "146       18.63          6.6         61.11           20.7      2.98   \n",
       "147       20.39         16.9         62.54           48.0      3.77   \n",
       "148       18.64         14.9         53.56           44.2      8.10   \n",
       "149       15.39         12.1         50.40           33.7     13.79   \n",
       "150       31.35         24.9         91.65           72.8     28.29   \n",
       "151       23.62         23.3         62.62           59.3     15.60   \n",
       "152       27.51         42.8         81.29          112.3      6.97   \n",
       "153       41.01         18.3        114.85           41.7      0.00   \n",
       "154       15.99         20.6         48.25           50.2      8.18   \n",
       "155       17.48         18.8         50.43           46.5      0.51   \n",
       "156       31.35         35.3         76.92           75.1      7.82   \n",
       "157       17.64         17.8         45.39           38.5      6.60   \n",
       "158       39.43         26.4         98.34           77.9     28.79   \n",
       "159       30.98         28.8         73.80           70.3      3.82   \n",
       "160       32.86         41.2         84.85           92.5      0.00   \n",
       "161       26.24         26.4         72.73           60.7      8.31   \n",
       "162       20.07         25.9         65.41           87.6      8.22   \n",
       "163       14.42         11.3         40.64           29.6      0.96   \n",
       "164       29.59         29.9         71.41           67.6      0.63   \n",
       "165       28.02         15.5         77.82           40.5     15.72   \n",
       "166       25.85         23.7         70.89           75.0     23.97   \n",
       "167       20.20         20.3         51.99           52.0      7.28   \n",
       "168       36.19         18.1         95.43           47.1      4.60   \n",
       "169       22.42         10.9         62.15           32.0      2.56   \n",
       "170       16.98         20.4         42.85           47.5     13.91   \n",
       "171       23.98         18.5         67.43           45.9      5.39   \n",
       "172       21.39         19.0         56.70           40.4      0.60   \n",
       "\n",
       "     Alcoh_ffq  Calor_dr  Calor_ffq  \n",
       "0         1.68      1807     1242.2  \n",
       "1         0.00      1418      907.0  \n",
       "2        15.10      1889      786.0  \n",
       "3         7.49      1426     1392.5  \n",
       "4        12.84      1253     1259.8  \n",
       "5         0.00      1699      987.1  \n",
       "6        25.06      1700     1189.9  \n",
       "7         0.00      1369     1364.1  \n",
       "8         0.00      2163     1311.4  \n",
       "9         0.00      1609     1200.6  \n",
       "10        1.06      1704     1227.4  \n",
       "11        1.81      1884     1448.1  \n",
       "12       11.14      1518     1367.7  \n",
       "13        2.57      1450     1154.4  \n",
       "14        0.00      1702     1217.7  \n",
       "15        0.76      1400      483.4  \n",
       "16        5.70       910     1056.5  \n",
       "17       10.56      1332     1265.3  \n",
       "18       35.34      1947      890.1  \n",
       "19        0.76      1428     1378.5  \n",
       "20       18.22      1557     1317.5  \n",
       "21        0.00      1788     1257.5  \n",
       "22        1.68      1098     1087.8  \n",
       "23        6.49      1362     1589.6  \n",
       "24       16.72      1562     1422.7  \n",
       "25        1.51      1286     1569.6  \n",
       "26        2.74      1529     1386.0  \n",
       "27       45.08      1810     2220.0  \n",
       "28       33.49      1606     1291.4  \n",
       "29       12.91      1363     1102.0  \n",
       "..         ...       ...        ...  \n",
       "143       4.64      1299     1228.1  \n",
       "144       6.76      1524      854.3  \n",
       "145       2.87      1450     1975.8  \n",
       "146       5.70      1340      601.1  \n",
       "147       1.06      1634     1140.4  \n",
       "148      11.14      1608     1520.6  \n",
       "149       5.57      1649      922.9  \n",
       "150      39.26      2013     1394.8  \n",
       "151      10.75      1626     1706.9  \n",
       "152       6.63      1732     2447.5  \n",
       "153       0.00      2518     1323.7  \n",
       "154       6.63      1561     1399.8  \n",
       "155       0.00      1485     1739.3  \n",
       "156      12.08      1767     1627.5  \n",
       "157      11.14      1006      922.5  \n",
       "158      52.07      2085     1602.7  \n",
       "159       1.81      1588     1570.3  \n",
       "160       0.00      1682     2074.9  \n",
       "161       2.91      2121     2039.1  \n",
       "162      13.76      1568     1958.8  \n",
       "163       0.76      1216     1043.6  \n",
       "164       0.00      1612     1327.6  \n",
       "165      16.81      1827     1026.9  \n",
       "166      12.43      1721     1584.6  \n",
       "167       6.63      1467     1342.4  \n",
       "168       7.25      1976     1204.3  \n",
       "169       1.81      1731      981.6  \n",
       "170       8.64      1033     1128.3  \n",
       "171       7.19      1585     1247.5  \n",
       "172       3.49      1320      994.0  \n",
       "\n",
       "[173 rows x 8 columns]"
      ]
     },
     "execution_count": 7,
     "metadata": {},
     "output_type": "execute_result"
    }
   ],
   "source": [
    "# some options\n",
    "df.head()\n",
    "df.tail()\n",
    "df.sample(10)\n",
    "df.dtypes\n",
    "df.drop(columns = 'Id')"
   ]
  },
  {
   "cell_type": "markdown",
   "metadata": {},
   "source": [
    "## 3.1 Summary statistics"
   ]
  },
  {
   "cell_type": "code",
   "execution_count": 44,
   "metadata": {},
   "outputs": [
    {
     "data": {
      "text/html": [
       "<div>\n",
       "<style scoped>\n",
       "    .dataframe tbody tr th:only-of-type {\n",
       "        vertical-align: middle;\n",
       "    }\n",
       "\n",
       "    .dataframe tbody tr th {\n",
       "        vertical-align: top;\n",
       "    }\n",
       "\n",
       "    .dataframe thead th {\n",
       "        text-align: right;\n",
       "    }\n",
       "</style>\n",
       "<table border=\"1\" class=\"dataframe\">\n",
       "  <thead>\n",
       "    <tr style=\"text-align: right;\">\n",
       "      <th></th>\n",
       "      <th>a</th>\n",
       "      <th>b</th>\n",
       "      <th>c</th>\n",
       "    </tr>\n",
       "  </thead>\n",
       "  <tbody>\n",
       "    <tr>\n",
       "      <th>0</th>\n",
       "      <td>1</td>\n",
       "      <td>2</td>\n",
       "      <td>3</td>\n",
       "    </tr>\n",
       "    <tr>\n",
       "      <th>1</th>\n",
       "      <td>4</td>\n",
       "      <td>5</td>\n",
       "      <td>6</td>\n",
       "    </tr>\n",
       "    <tr>\n",
       "      <th>2</th>\n",
       "      <td>7</td>\n",
       "      <td>8</td>\n",
       "      <td>9</td>\n",
       "    </tr>\n",
       "  </tbody>\n",
       "</table>\n",
       "</div>"
      ],
      "text/plain": [
       "   a  b  c\n",
       "0  1  2  3\n",
       "1  4  5  6\n",
       "2  7  8  9"
      ]
     },
     "execution_count": 44,
     "metadata": {},
     "output_type": "execute_result"
    }
   ],
   "source": [
    "# Remember¡\n",
    "df = pd.DataFrame(np.array([[1, 2, 3], [4, 5, 6], [7, 8, 9]]),columns=['a', 'b', 'c'])\n",
    "df"
   ]
  },
  {
   "cell_type": "code",
   "execution_count": 45,
   "metadata": {},
   "outputs": [
    {
     "data": {
      "text/plain": [
       "0    2.0\n",
       "1    5.0\n",
       "2    8.0\n",
       "dtype: float64"
      ]
     },
     "execution_count": 45,
     "metadata": {},
     "output_type": "execute_result"
    }
   ],
   "source": [
    "# Mean values\n",
    "df.mean()       # columns (axis=0) \n",
    "df.mean(axis=1) # rows"
   ]
  },
  {
   "cell_type": "code",
   "execution_count": 46,
   "metadata": {},
   "outputs": [
    {
     "data": {
      "text/plain": [
       "a    3.0\n",
       "b    3.0\n",
       "c    3.0\n",
       "dtype: float64"
      ]
     },
     "execution_count": 46,
     "metadata": {},
     "output_type": "execute_result"
    }
   ],
   "source": [
    "# standard deviation\n",
    "df.std(ddof=1) "
   ]
  },
  {
   "cell_type": "code",
   "execution_count": 47,
   "metadata": {},
   "outputs": [
    {
     "data": {
      "text/plain": [
       "a    3\n",
       "b    3\n",
       "c    3\n",
       "dtype: int64"
      ]
     },
     "execution_count": 47,
     "metadata": {},
     "output_type": "execute_result"
    }
   ],
   "source": [
    "# others\n",
    "df.count()\n",
    "#df.min()\n",
    "#df.median()\n",
    "#df.max()"
   ]
  },
  {
   "cell_type": "code",
   "execution_count": 51,
   "metadata": {},
   "outputs": [
    {
     "data": {
      "text/plain": [
       "0    1\n",
       "1    4\n",
       "2    7\n",
       "dtype: int32"
      ]
     },
     "execution_count": 51,
     "metadata": {},
     "output_type": "execute_result"
    }
   ],
   "source": [
    "df.min(axis=1)"
   ]
  },
  {
   "cell_type": "code",
   "execution_count": 55,
   "metadata": {},
   "outputs": [
    {
     "data": {
      "text/plain": [
       "a    1\n",
       "b    2\n",
       "c    3\n",
       "dtype: int32"
      ]
     },
     "execution_count": 55,
     "metadata": {},
     "output_type": "execute_result"
    }
   ],
   "source": [
    "df.min()"
   ]
  },
  {
   "cell_type": "code",
   "execution_count": 52,
   "metadata": {},
   "outputs": [
    {
     "data": {
      "text/plain": [
       "0    2.0\n",
       "1    5.0\n",
       "2    8.0\n",
       "dtype: float64"
      ]
     },
     "execution_count": 52,
     "metadata": {},
     "output_type": "execute_result"
    }
   ],
   "source": [
    "df.median(axis=1)"
   ]
  },
  {
   "cell_type": "code",
   "execution_count": 56,
   "metadata": {},
   "outputs": [
    {
     "data": {
      "text/plain": [
       "a    4.0\n",
       "b    5.0\n",
       "c    6.0\n",
       "dtype: float64"
      ]
     },
     "execution_count": 56,
     "metadata": {},
     "output_type": "execute_result"
    }
   ],
   "source": [
    "df.median()"
   ]
  },
  {
   "cell_type": "code",
   "execution_count": 53,
   "metadata": {},
   "outputs": [
    {
     "data": {
      "text/plain": [
       "0    3\n",
       "1    6\n",
       "2    9\n",
       "dtype: int32"
      ]
     },
     "execution_count": 53,
     "metadata": {},
     "output_type": "execute_result"
    }
   ],
   "source": [
    "df.max(axis=1)"
   ]
  },
  {
   "cell_type": "code",
   "execution_count": 57,
   "metadata": {},
   "outputs": [
    {
     "data": {
      "text/plain": [
       "a    7\n",
       "b    8\n",
       "c    9\n",
       "dtype: int32"
      ]
     },
     "execution_count": 57,
     "metadata": {},
     "output_type": "execute_result"
    }
   ],
   "source": [
    "df.max()"
   ]
  },
  {
   "cell_type": "markdown",
   "metadata": {},
   "source": [
    "# Solo se puede hacer con las columnas?"
   ]
  },
  {
   "cell_type": "code",
   "execution_count": 58,
   "metadata": {},
   "outputs": [
    {
     "data": {
      "text/html": [
       "<div>\n",
       "<style scoped>\n",
       "    .dataframe tbody tr th:only-of-type {\n",
       "        vertical-align: middle;\n",
       "    }\n",
       "\n",
       "    .dataframe tbody tr th {\n",
       "        vertical-align: top;\n",
       "    }\n",
       "\n",
       "    .dataframe thead th {\n",
       "        text-align: right;\n",
       "    }\n",
       "</style>\n",
       "<table border=\"1\" class=\"dataframe\">\n",
       "  <thead>\n",
       "    <tr style=\"text-align: right;\">\n",
       "      <th></th>\n",
       "      <th>a</th>\n",
       "      <th>b</th>\n",
       "      <th>c</th>\n",
       "    </tr>\n",
       "  </thead>\n",
       "  <tbody>\n",
       "    <tr>\n",
       "      <th>count</th>\n",
       "      <td>3.0</td>\n",
       "      <td>3.0</td>\n",
       "      <td>3.0</td>\n",
       "    </tr>\n",
       "    <tr>\n",
       "      <th>mean</th>\n",
       "      <td>4.0</td>\n",
       "      <td>5.0</td>\n",
       "      <td>6.0</td>\n",
       "    </tr>\n",
       "    <tr>\n",
       "      <th>std</th>\n",
       "      <td>3.0</td>\n",
       "      <td>3.0</td>\n",
       "      <td>3.0</td>\n",
       "    </tr>\n",
       "    <tr>\n",
       "      <th>min</th>\n",
       "      <td>1.0</td>\n",
       "      <td>2.0</td>\n",
       "      <td>3.0</td>\n",
       "    </tr>\n",
       "    <tr>\n",
       "      <th>5%</th>\n",
       "      <td>1.3</td>\n",
       "      <td>2.3</td>\n",
       "      <td>3.3</td>\n",
       "    </tr>\n",
       "    <tr>\n",
       "      <th>25%</th>\n",
       "      <td>2.5</td>\n",
       "      <td>3.5</td>\n",
       "      <td>4.5</td>\n",
       "    </tr>\n",
       "    <tr>\n",
       "      <th>50%</th>\n",
       "      <td>4.0</td>\n",
       "      <td>5.0</td>\n",
       "      <td>6.0</td>\n",
       "    </tr>\n",
       "    <tr>\n",
       "      <th>75%</th>\n",
       "      <td>5.5</td>\n",
       "      <td>6.5</td>\n",
       "      <td>7.5</td>\n",
       "    </tr>\n",
       "    <tr>\n",
       "      <th>95%</th>\n",
       "      <td>6.7</td>\n",
       "      <td>7.7</td>\n",
       "      <td>8.7</td>\n",
       "    </tr>\n",
       "    <tr>\n",
       "      <th>max</th>\n",
       "      <td>7.0</td>\n",
       "      <td>8.0</td>\n",
       "      <td>9.0</td>\n",
       "    </tr>\n",
       "  </tbody>\n",
       "</table>\n",
       "</div>"
      ],
      "text/plain": [
       "         a    b    c\n",
       "count  3.0  3.0  3.0\n",
       "mean   4.0  5.0  6.0\n",
       "std    3.0  3.0  3.0\n",
       "min    1.0  2.0  3.0\n",
       "5%     1.3  2.3  3.3\n",
       "25%    2.5  3.5  4.5\n",
       "50%    4.0  5.0  6.0\n",
       "75%    5.5  6.5  7.5\n",
       "95%    6.7  7.7  8.7\n",
       "max    7.0  8.0  9.0"
      ]
     },
     "execution_count": 58,
     "metadata": {},
     "output_type": "execute_result"
    }
   ],
   "source": [
    "# summary\n",
    "df.describe(percentiles = [.05, .25, .5, .75, .95])"
   ]
  },
  {
   "cell_type": "code",
   "execution_count": 59,
   "metadata": {},
   "outputs": [
    {
     "ename": "TypeError",
     "evalue": "describe() got an unexpected keyword argument 'axis'",
     "output_type": "error",
     "traceback": [
      "\u001b[1;31m---------------------------------------------------------------------------\u001b[0m",
      "\u001b[1;31mTypeError\u001b[0m                                 Traceback (most recent call last)",
      "\u001b[1;32m<ipython-input-59-842c5691af4a>\u001b[0m in \u001b[0;36m<module>\u001b[1;34m\u001b[0m\n\u001b[1;32m----> 1\u001b[1;33m \u001b[0mdf\u001b[0m\u001b[1;33m.\u001b[0m\u001b[0mdescribe\u001b[0m\u001b[1;33m(\u001b[0m\u001b[0maxis\u001b[0m\u001b[1;33m=\u001b[0m\u001b[1;36m1\u001b[0m\u001b[1;33m,\u001b[0m\u001b[0mpercentiles\u001b[0m \u001b[1;33m=\u001b[0m \u001b[1;33m[\u001b[0m\u001b[1;36m.05\u001b[0m\u001b[1;33m,\u001b[0m \u001b[1;36m.25\u001b[0m\u001b[1;33m,\u001b[0m \u001b[1;36m.5\u001b[0m\u001b[1;33m,\u001b[0m \u001b[1;36m.75\u001b[0m\u001b[1;33m,\u001b[0m \u001b[1;36m.95\u001b[0m\u001b[1;33m]\u001b[0m\u001b[1;33m)\u001b[0m\u001b[1;33m\u001b[0m\u001b[1;33m\u001b[0m\u001b[0m\n\u001b[0m",
      "\u001b[1;31mTypeError\u001b[0m: describe() got an unexpected keyword argument 'axis'"
     ]
    }
   ],
   "source": [
    "df.describe(axis=1,percentiles = [.05, .25, .5, .75, .95]) "
   ]
  },
  {
   "cell_type": "markdown",
   "metadata": {},
   "source": [
    "<div class=\"alert alert-block alert-info\">\n",
    "<b>Exercise:</b> Calculate the mean value of a (random) sample of size 10 for the variable Sat_fat_dr.</div>"
   ]
  },
  {
   "cell_type": "code",
   "execution_count": 64,
   "metadata": {},
   "outputs": [
    {
     "data": {
      "text/plain": [
       "array([0.26680962, 0.09084604, 0.50664257, 0.84775479, 0.77566622,\n",
       "       0.0618235 , 0.99359704, 0.09262843, 0.76446088, 0.36186593])"
      ]
     },
     "execution_count": 64,
     "metadata": {},
     "output_type": "execute_result"
    }
   ],
   "source": [
    "np.random.rand(10)"
   ]
  },
  {
   "cell_type": "code",
   "execution_count": 66,
   "metadata": {},
   "outputs": [
    {
     "data": {
      "text/html": [
       "<div>\n",
       "<style scoped>\n",
       "    .dataframe tbody tr th:only-of-type {\n",
       "        vertical-align: middle;\n",
       "    }\n",
       "\n",
       "    .dataframe tbody tr th {\n",
       "        vertical-align: top;\n",
       "    }\n",
       "\n",
       "    .dataframe thead th {\n",
       "        text-align: right;\n",
       "    }\n",
       "</style>\n",
       "<table border=\"1\" class=\"dataframe\">\n",
       "  <thead>\n",
       "    <tr style=\"text-align: right;\">\n",
       "      <th></th>\n",
       "      <th>0</th>\n",
       "    </tr>\n",
       "  </thead>\n",
       "  <tbody>\n",
       "    <tr>\n",
       "      <th>0</th>\n",
       "      <td>0.567825</td>\n",
       "    </tr>\n",
       "    <tr>\n",
       "      <th>1</th>\n",
       "      <td>0.274565</td>\n",
       "    </tr>\n",
       "    <tr>\n",
       "      <th>2</th>\n",
       "      <td>0.775191</td>\n",
       "    </tr>\n",
       "    <tr>\n",
       "      <th>3</th>\n",
       "      <td>0.408859</td>\n",
       "    </tr>\n",
       "    <tr>\n",
       "      <th>4</th>\n",
       "      <td>0.079030</td>\n",
       "    </tr>\n",
       "    <tr>\n",
       "      <th>5</th>\n",
       "      <td>0.009440</td>\n",
       "    </tr>\n",
       "    <tr>\n",
       "      <th>6</th>\n",
       "      <td>0.810704</td>\n",
       "    </tr>\n",
       "    <tr>\n",
       "      <th>7</th>\n",
       "      <td>0.400540</td>\n",
       "    </tr>\n",
       "    <tr>\n",
       "      <th>8</th>\n",
       "      <td>0.371243</td>\n",
       "    </tr>\n",
       "    <tr>\n",
       "      <th>9</th>\n",
       "      <td>0.699141</td>\n",
       "    </tr>\n",
       "  </tbody>\n",
       "</table>\n",
       "</div>"
      ],
      "text/plain": [
       "          0\n",
       "0  0.567825\n",
       "1  0.274565\n",
       "2  0.775191\n",
       "3  0.408859\n",
       "4  0.079030\n",
       "5  0.009440\n",
       "6  0.810704\n",
       "7  0.400540\n",
       "8  0.371243\n",
       "9  0.699141"
      ]
     },
     "execution_count": 66,
     "metadata": {},
     "output_type": "execute_result"
    }
   ],
   "source": [
    "Sat_fat_dr = pd.DataFrame(np.random.rand(10))\n",
    "Sat_fat_dr"
   ]
  },
  {
   "cell_type": "code",
   "execution_count": 68,
   "metadata": {},
   "outputs": [
    {
     "data": {
      "text/plain": [
       "0    0.439654\n",
       "dtype: float64"
      ]
     },
     "execution_count": 68,
     "metadata": {},
     "output_type": "execute_result"
    }
   ],
   "source": [
    "Sat_fat_dr.mean()"
   ]
  },
  {
   "cell_type": "markdown",
   "metadata": {},
   "source": [
    "## 3.2 Filtering\n",
    "\n",
    "Let's find the rows for which `Alcoh_dr` is 0."
   ]
  },
  {
   "cell_type": "markdown",
   "metadata": {},
   "source": [
    "# Resuelto previamente el problema del path¡¡"
   ]
  },
  {
   "cell_type": "code",
   "execution_count": 8,
   "metadata": {},
   "outputs": [
    {
     "data": {
      "text/html": [
       "<div>\n",
       "<style scoped>\n",
       "    .dataframe tbody tr th:only-of-type {\n",
       "        vertical-align: middle;\n",
       "    }\n",
       "\n",
       "    .dataframe tbody tr th {\n",
       "        vertical-align: top;\n",
       "    }\n",
       "\n",
       "    .dataframe thead th {\n",
       "        text-align: right;\n",
       "    }\n",
       "</style>\n",
       "<table border=\"1\" class=\"dataframe\">\n",
       "  <thead>\n",
       "    <tr style=\"text-align: right;\">\n",
       "      <th></th>\n",
       "      <th>Id</th>\n",
       "      <th>Sat_fat_dr</th>\n",
       "      <th>Sat_fat_ffq</th>\n",
       "      <th>Total_fat_dr</th>\n",
       "      <th>Total_fat_ffq</th>\n",
       "      <th>Alcoh_dr</th>\n",
       "      <th>Alcoh_ffq</th>\n",
       "      <th>Calor_dr</th>\n",
       "      <th>Calor_ffq</th>\n",
       "    </tr>\n",
       "  </thead>\n",
       "  <tbody>\n",
       "    <tr>\n",
       "      <th>7</th>\n",
       "      <td>107879</td>\n",
       "      <td>19.73</td>\n",
       "      <td>19.1</td>\n",
       "      <td>58.30</td>\n",
       "      <td>48.9</td>\n",
       "      <td>0.0</td>\n",
       "      <td>0.00</td>\n",
       "      <td>1369</td>\n",
       "      <td>1364.1</td>\n",
       "    </tr>\n",
       "    <tr>\n",
       "      <th>8</th>\n",
       "      <td>108618</td>\n",
       "      <td>36.31</td>\n",
       "      <td>23.4</td>\n",
       "      <td>92.58</td>\n",
       "      <td>55.4</td>\n",
       "      <td>0.0</td>\n",
       "      <td>0.00</td>\n",
       "      <td>2163</td>\n",
       "      <td>1311.4</td>\n",
       "    </tr>\n",
       "    <tr>\n",
       "      <th>9</th>\n",
       "      <td>109000</td>\n",
       "      <td>20.87</td>\n",
       "      <td>16.0</td>\n",
       "      <td>68.44</td>\n",
       "      <td>44.2</td>\n",
       "      <td>0.0</td>\n",
       "      <td>0.00</td>\n",
       "      <td>1609</td>\n",
       "      <td>1200.6</td>\n",
       "    </tr>\n",
       "    <tr>\n",
       "      <th>14</th>\n",
       "      <td>109908</td>\n",
       "      <td>25.62</td>\n",
       "      <td>17.4</td>\n",
       "      <td>74.22</td>\n",
       "      <td>51.7</td>\n",
       "      <td>0.0</td>\n",
       "      <td>0.00</td>\n",
       "      <td>1702</td>\n",
       "      <td>1217.7</td>\n",
       "    </tr>\n",
       "    <tr>\n",
       "      <th>21</th>\n",
       "      <td>110714</td>\n",
       "      <td>25.10</td>\n",
       "      <td>18.9</td>\n",
       "      <td>80.15</td>\n",
       "      <td>57.5</td>\n",
       "      <td>0.0</td>\n",
       "      <td>0.00</td>\n",
       "      <td>1788</td>\n",
       "      <td>1257.5</td>\n",
       "    </tr>\n",
       "    <tr>\n",
       "      <th>33</th>\n",
       "      <td>112738</td>\n",
       "      <td>16.04</td>\n",
       "      <td>17.6</td>\n",
       "      <td>44.23</td>\n",
       "      <td>40.6</td>\n",
       "      <td>0.0</td>\n",
       "      <td>0.00</td>\n",
       "      <td>1183</td>\n",
       "      <td>1326.6</td>\n",
       "    </tr>\n",
       "    <tr>\n",
       "      <th>47</th>\n",
       "      <td>114865</td>\n",
       "      <td>29.17</td>\n",
       "      <td>24.8</td>\n",
       "      <td>84.52</td>\n",
       "      <td>71.1</td>\n",
       "      <td>0.0</td>\n",
       "      <td>0.00</td>\n",
       "      <td>1636</td>\n",
       "      <td>1396.7</td>\n",
       "    </tr>\n",
       "    <tr>\n",
       "      <th>54</th>\n",
       "      <td>115764</td>\n",
       "      <td>25.47</td>\n",
       "      <td>15.8</td>\n",
       "      <td>75.54</td>\n",
       "      <td>41.6</td>\n",
       "      <td>0.0</td>\n",
       "      <td>1.81</td>\n",
       "      <td>1548</td>\n",
       "      <td>1259.6</td>\n",
       "    </tr>\n",
       "    <tr>\n",
       "      <th>58</th>\n",
       "      <td>115879</td>\n",
       "      <td>28.72</td>\n",
       "      <td>35.8</td>\n",
       "      <td>74.26</td>\n",
       "      <td>76.0</td>\n",
       "      <td>0.0</td>\n",
       "      <td>0.00</td>\n",
       "      <td>1641</td>\n",
       "      <td>1961.6</td>\n",
       "    </tr>\n",
       "    <tr>\n",
       "      <th>65</th>\n",
       "      <td>129518</td>\n",
       "      <td>20.74</td>\n",
       "      <td>23.7</td>\n",
       "      <td>61.82</td>\n",
       "      <td>68.8</td>\n",
       "      <td>0.0</td>\n",
       "      <td>0.00</td>\n",
       "      <td>1374</td>\n",
       "      <td>1592.4</td>\n",
       "    </tr>\n",
       "    <tr>\n",
       "      <th>99</th>\n",
       "      <td>133443</td>\n",
       "      <td>16.73</td>\n",
       "      <td>57.4</td>\n",
       "      <td>54.07</td>\n",
       "      <td>119.0</td>\n",
       "      <td>0.0</td>\n",
       "      <td>0.00</td>\n",
       "      <td>1555</td>\n",
       "      <td>2691.0</td>\n",
       "    </tr>\n",
       "    <tr>\n",
       "      <th>100</th>\n",
       "      <td>133497</td>\n",
       "      <td>24.78</td>\n",
       "      <td>11.8</td>\n",
       "      <td>73.18</td>\n",
       "      <td>28.0</td>\n",
       "      <td>0.0</td>\n",
       "      <td>0.00</td>\n",
       "      <td>1470</td>\n",
       "      <td>662.4</td>\n",
       "    </tr>\n",
       "    <tr>\n",
       "      <th>130</th>\n",
       "      <td>134622</td>\n",
       "      <td>23.34</td>\n",
       "      <td>41.1</td>\n",
       "      <td>66.51</td>\n",
       "      <td>113.2</td>\n",
       "      <td>0.0</td>\n",
       "      <td>0.00</td>\n",
       "      <td>1371</td>\n",
       "      <td>2921.6</td>\n",
       "    </tr>\n",
       "    <tr>\n",
       "      <th>135</th>\n",
       "      <td>135002</td>\n",
       "      <td>34.04</td>\n",
       "      <td>37.4</td>\n",
       "      <td>82.11</td>\n",
       "      <td>91.1</td>\n",
       "      <td>0.0</td>\n",
       "      <td>0.00</td>\n",
       "      <td>1885</td>\n",
       "      <td>2389.5</td>\n",
       "    </tr>\n",
       "    <tr>\n",
       "      <th>139</th>\n",
       "      <td>135130</td>\n",
       "      <td>21.04</td>\n",
       "      <td>24.8</td>\n",
       "      <td>58.92</td>\n",
       "      <td>67.0</td>\n",
       "      <td>0.0</td>\n",
       "      <td>0.00</td>\n",
       "      <td>1501</td>\n",
       "      <td>1466.6</td>\n",
       "    </tr>\n",
       "    <tr>\n",
       "      <th>153</th>\n",
       "      <td>135472</td>\n",
       "      <td>41.01</td>\n",
       "      <td>18.3</td>\n",
       "      <td>114.85</td>\n",
       "      <td>41.7</td>\n",
       "      <td>0.0</td>\n",
       "      <td>0.00</td>\n",
       "      <td>2518</td>\n",
       "      <td>1323.7</td>\n",
       "    </tr>\n",
       "    <tr>\n",
       "      <th>160</th>\n",
       "      <td>135619</td>\n",
       "      <td>32.86</td>\n",
       "      <td>41.2</td>\n",
       "      <td>84.85</td>\n",
       "      <td>92.5</td>\n",
       "      <td>0.0</td>\n",
       "      <td>0.00</td>\n",
       "      <td>1682</td>\n",
       "      <td>2074.9</td>\n",
       "    </tr>\n",
       "  </tbody>\n",
       "</table>\n",
       "</div>"
      ],
      "text/plain": [
       "         Id  Sat_fat_dr  Sat_fat_ffq  Total_fat_dr  Total_fat_ffq  Alcoh_dr  \\\n",
       "7    107879       19.73         19.1         58.30           48.9       0.0   \n",
       "8    108618       36.31         23.4         92.58           55.4       0.0   \n",
       "9    109000       20.87         16.0         68.44           44.2       0.0   \n",
       "14   109908       25.62         17.4         74.22           51.7       0.0   \n",
       "21   110714       25.10         18.9         80.15           57.5       0.0   \n",
       "33   112738       16.04         17.6         44.23           40.6       0.0   \n",
       "47   114865       29.17         24.8         84.52           71.1       0.0   \n",
       "54   115764       25.47         15.8         75.54           41.6       0.0   \n",
       "58   115879       28.72         35.8         74.26           76.0       0.0   \n",
       "65   129518       20.74         23.7         61.82           68.8       0.0   \n",
       "99   133443       16.73         57.4         54.07          119.0       0.0   \n",
       "100  133497       24.78         11.8         73.18           28.0       0.0   \n",
       "130  134622       23.34         41.1         66.51          113.2       0.0   \n",
       "135  135002       34.04         37.4         82.11           91.1       0.0   \n",
       "139  135130       21.04         24.8         58.92           67.0       0.0   \n",
       "153  135472       41.01         18.3        114.85           41.7       0.0   \n",
       "160  135619       32.86         41.2         84.85           92.5       0.0   \n",
       "\n",
       "     Alcoh_ffq  Calor_dr  Calor_ffq  \n",
       "7         0.00      1369     1364.1  \n",
       "8         0.00      2163     1311.4  \n",
       "9         0.00      1609     1200.6  \n",
       "14        0.00      1702     1217.7  \n",
       "21        0.00      1788     1257.5  \n",
       "33        0.00      1183     1326.6  \n",
       "47        0.00      1636     1396.7  \n",
       "54        1.81      1548     1259.6  \n",
       "58        0.00      1641     1961.6  \n",
       "65        0.00      1374     1592.4  \n",
       "99        0.00      1555     2691.0  \n",
       "100       0.00      1470      662.4  \n",
       "130       0.00      1371     2921.6  \n",
       "135       0.00      1885     2389.5  \n",
       "139       0.00      1501     1466.6  \n",
       "153       0.00      2518     1323.7  \n",
       "160       0.00      1682     2074.9  "
      ]
     },
     "execution_count": 8,
     "metadata": {},
     "output_type": "execute_result"
    }
   ],
   "source": [
    "df[df.Alcoh_dr == 0]"
   ]
  },
  {
   "cell_type": "markdown",
   "metadata": {},
   "source": [
    "Now, let's take the cases where `Alcoh_dr` is greater than 0 for the Calors columns."
   ]
  },
  {
   "cell_type": "code",
   "execution_count": 9,
   "metadata": {},
   "outputs": [
    {
     "data": {
      "text/html": [
       "<div>\n",
       "<style scoped>\n",
       "    .dataframe tbody tr th:only-of-type {\n",
       "        vertical-align: middle;\n",
       "    }\n",
       "\n",
       "    .dataframe tbody tr th {\n",
       "        vertical-align: top;\n",
       "    }\n",
       "\n",
       "    .dataframe thead th {\n",
       "        text-align: right;\n",
       "    }\n",
       "</style>\n",
       "<table border=\"1\" class=\"dataframe\">\n",
       "  <thead>\n",
       "    <tr style=\"text-align: right;\">\n",
       "      <th></th>\n",
       "      <th>Calor_dr</th>\n",
       "      <th>Calor_ffq</th>\n",
       "    </tr>\n",
       "  </thead>\n",
       "  <tbody>\n",
       "    <tr>\n",
       "      <th>0</th>\n",
       "      <td>1807</td>\n",
       "      <td>1242.2</td>\n",
       "    </tr>\n",
       "    <tr>\n",
       "      <th>1</th>\n",
       "      <td>1418</td>\n",
       "      <td>907.0</td>\n",
       "    </tr>\n",
       "    <tr>\n",
       "      <th>2</th>\n",
       "      <td>1889</td>\n",
       "      <td>786.0</td>\n",
       "    </tr>\n",
       "    <tr>\n",
       "      <th>3</th>\n",
       "      <td>1426</td>\n",
       "      <td>1392.5</td>\n",
       "    </tr>\n",
       "    <tr>\n",
       "      <th>4</th>\n",
       "      <td>1253</td>\n",
       "      <td>1259.8</td>\n",
       "    </tr>\n",
       "    <tr>\n",
       "      <th>5</th>\n",
       "      <td>1699</td>\n",
       "      <td>987.1</td>\n",
       "    </tr>\n",
       "    <tr>\n",
       "      <th>6</th>\n",
       "      <td>1700</td>\n",
       "      <td>1189.9</td>\n",
       "    </tr>\n",
       "    <tr>\n",
       "      <th>10</th>\n",
       "      <td>1704</td>\n",
       "      <td>1227.4</td>\n",
       "    </tr>\n",
       "    <tr>\n",
       "      <th>11</th>\n",
       "      <td>1884</td>\n",
       "      <td>1448.1</td>\n",
       "    </tr>\n",
       "    <tr>\n",
       "      <th>12</th>\n",
       "      <td>1518</td>\n",
       "      <td>1367.7</td>\n",
       "    </tr>\n",
       "    <tr>\n",
       "      <th>13</th>\n",
       "      <td>1450</td>\n",
       "      <td>1154.4</td>\n",
       "    </tr>\n",
       "    <tr>\n",
       "      <th>15</th>\n",
       "      <td>1400</td>\n",
       "      <td>483.4</td>\n",
       "    </tr>\n",
       "    <tr>\n",
       "      <th>16</th>\n",
       "      <td>910</td>\n",
       "      <td>1056.5</td>\n",
       "    </tr>\n",
       "    <tr>\n",
       "      <th>17</th>\n",
       "      <td>1332</td>\n",
       "      <td>1265.3</td>\n",
       "    </tr>\n",
       "    <tr>\n",
       "      <th>18</th>\n",
       "      <td>1947</td>\n",
       "      <td>890.1</td>\n",
       "    </tr>\n",
       "    <tr>\n",
       "      <th>19</th>\n",
       "      <td>1428</td>\n",
       "      <td>1378.5</td>\n",
       "    </tr>\n",
       "    <tr>\n",
       "      <th>20</th>\n",
       "      <td>1557</td>\n",
       "      <td>1317.5</td>\n",
       "    </tr>\n",
       "    <tr>\n",
       "      <th>22</th>\n",
       "      <td>1098</td>\n",
       "      <td>1087.8</td>\n",
       "    </tr>\n",
       "    <tr>\n",
       "      <th>23</th>\n",
       "      <td>1362</td>\n",
       "      <td>1589.6</td>\n",
       "    </tr>\n",
       "    <tr>\n",
       "      <th>24</th>\n",
       "      <td>1562</td>\n",
       "      <td>1422.7</td>\n",
       "    </tr>\n",
       "    <tr>\n",
       "      <th>25</th>\n",
       "      <td>1286</td>\n",
       "      <td>1569.6</td>\n",
       "    </tr>\n",
       "    <tr>\n",
       "      <th>26</th>\n",
       "      <td>1529</td>\n",
       "      <td>1386.0</td>\n",
       "    </tr>\n",
       "    <tr>\n",
       "      <th>27</th>\n",
       "      <td>1810</td>\n",
       "      <td>2220.0</td>\n",
       "    </tr>\n",
       "    <tr>\n",
       "      <th>28</th>\n",
       "      <td>1606</td>\n",
       "      <td>1291.4</td>\n",
       "    </tr>\n",
       "    <tr>\n",
       "      <th>29</th>\n",
       "      <td>1363</td>\n",
       "      <td>1102.0</td>\n",
       "    </tr>\n",
       "    <tr>\n",
       "      <th>30</th>\n",
       "      <td>1457</td>\n",
       "      <td>943.2</td>\n",
       "    </tr>\n",
       "    <tr>\n",
       "      <th>31</th>\n",
       "      <td>1233</td>\n",
       "      <td>731.4</td>\n",
       "    </tr>\n",
       "    <tr>\n",
       "      <th>32</th>\n",
       "      <td>2285</td>\n",
       "      <td>1878.9</td>\n",
       "    </tr>\n",
       "    <tr>\n",
       "      <th>34</th>\n",
       "      <td>2176</td>\n",
       "      <td>1635.4</td>\n",
       "    </tr>\n",
       "    <tr>\n",
       "      <th>35</th>\n",
       "      <td>1587</td>\n",
       "      <td>1035.5</td>\n",
       "    </tr>\n",
       "    <tr>\n",
       "      <th>...</th>\n",
       "      <td>...</td>\n",
       "      <td>...</td>\n",
       "    </tr>\n",
       "    <tr>\n",
       "      <th>141</th>\n",
       "      <td>1820</td>\n",
       "      <td>1532.9</td>\n",
       "    </tr>\n",
       "    <tr>\n",
       "      <th>142</th>\n",
       "      <td>2087</td>\n",
       "      <td>2279.8</td>\n",
       "    </tr>\n",
       "    <tr>\n",
       "      <th>143</th>\n",
       "      <td>1299</td>\n",
       "      <td>1228.1</td>\n",
       "    </tr>\n",
       "    <tr>\n",
       "      <th>144</th>\n",
       "      <td>1524</td>\n",
       "      <td>854.3</td>\n",
       "    </tr>\n",
       "    <tr>\n",
       "      <th>145</th>\n",
       "      <td>1450</td>\n",
       "      <td>1975.8</td>\n",
       "    </tr>\n",
       "    <tr>\n",
       "      <th>146</th>\n",
       "      <td>1340</td>\n",
       "      <td>601.1</td>\n",
       "    </tr>\n",
       "    <tr>\n",
       "      <th>147</th>\n",
       "      <td>1634</td>\n",
       "      <td>1140.4</td>\n",
       "    </tr>\n",
       "    <tr>\n",
       "      <th>148</th>\n",
       "      <td>1608</td>\n",
       "      <td>1520.6</td>\n",
       "    </tr>\n",
       "    <tr>\n",
       "      <th>149</th>\n",
       "      <td>1649</td>\n",
       "      <td>922.9</td>\n",
       "    </tr>\n",
       "    <tr>\n",
       "      <th>150</th>\n",
       "      <td>2013</td>\n",
       "      <td>1394.8</td>\n",
       "    </tr>\n",
       "    <tr>\n",
       "      <th>151</th>\n",
       "      <td>1626</td>\n",
       "      <td>1706.9</td>\n",
       "    </tr>\n",
       "    <tr>\n",
       "      <th>152</th>\n",
       "      <td>1732</td>\n",
       "      <td>2447.5</td>\n",
       "    </tr>\n",
       "    <tr>\n",
       "      <th>154</th>\n",
       "      <td>1561</td>\n",
       "      <td>1399.8</td>\n",
       "    </tr>\n",
       "    <tr>\n",
       "      <th>155</th>\n",
       "      <td>1485</td>\n",
       "      <td>1739.3</td>\n",
       "    </tr>\n",
       "    <tr>\n",
       "      <th>156</th>\n",
       "      <td>1767</td>\n",
       "      <td>1627.5</td>\n",
       "    </tr>\n",
       "    <tr>\n",
       "      <th>157</th>\n",
       "      <td>1006</td>\n",
       "      <td>922.5</td>\n",
       "    </tr>\n",
       "    <tr>\n",
       "      <th>158</th>\n",
       "      <td>2085</td>\n",
       "      <td>1602.7</td>\n",
       "    </tr>\n",
       "    <tr>\n",
       "      <th>159</th>\n",
       "      <td>1588</td>\n",
       "      <td>1570.3</td>\n",
       "    </tr>\n",
       "    <tr>\n",
       "      <th>161</th>\n",
       "      <td>2121</td>\n",
       "      <td>2039.1</td>\n",
       "    </tr>\n",
       "    <tr>\n",
       "      <th>162</th>\n",
       "      <td>1568</td>\n",
       "      <td>1958.8</td>\n",
       "    </tr>\n",
       "    <tr>\n",
       "      <th>163</th>\n",
       "      <td>1216</td>\n",
       "      <td>1043.6</td>\n",
       "    </tr>\n",
       "    <tr>\n",
       "      <th>164</th>\n",
       "      <td>1612</td>\n",
       "      <td>1327.6</td>\n",
       "    </tr>\n",
       "    <tr>\n",
       "      <th>165</th>\n",
       "      <td>1827</td>\n",
       "      <td>1026.9</td>\n",
       "    </tr>\n",
       "    <tr>\n",
       "      <th>166</th>\n",
       "      <td>1721</td>\n",
       "      <td>1584.6</td>\n",
       "    </tr>\n",
       "    <tr>\n",
       "      <th>167</th>\n",
       "      <td>1467</td>\n",
       "      <td>1342.4</td>\n",
       "    </tr>\n",
       "    <tr>\n",
       "      <th>168</th>\n",
       "      <td>1976</td>\n",
       "      <td>1204.3</td>\n",
       "    </tr>\n",
       "    <tr>\n",
       "      <th>169</th>\n",
       "      <td>1731</td>\n",
       "      <td>981.6</td>\n",
       "    </tr>\n",
       "    <tr>\n",
       "      <th>170</th>\n",
       "      <td>1033</td>\n",
       "      <td>1128.3</td>\n",
       "    </tr>\n",
       "    <tr>\n",
       "      <th>171</th>\n",
       "      <td>1585</td>\n",
       "      <td>1247.5</td>\n",
       "    </tr>\n",
       "    <tr>\n",
       "      <th>172</th>\n",
       "      <td>1320</td>\n",
       "      <td>994.0</td>\n",
       "    </tr>\n",
       "  </tbody>\n",
       "</table>\n",
       "<p>156 rows × 2 columns</p>\n",
       "</div>"
      ],
      "text/plain": [
       "     Calor_dr  Calor_ffq\n",
       "0        1807     1242.2\n",
       "1        1418      907.0\n",
       "2        1889      786.0\n",
       "3        1426     1392.5\n",
       "4        1253     1259.8\n",
       "5        1699      987.1\n",
       "6        1700     1189.9\n",
       "10       1704     1227.4\n",
       "11       1884     1448.1\n",
       "12       1518     1367.7\n",
       "13       1450     1154.4\n",
       "15       1400      483.4\n",
       "16        910     1056.5\n",
       "17       1332     1265.3\n",
       "18       1947      890.1\n",
       "19       1428     1378.5\n",
       "20       1557     1317.5\n",
       "22       1098     1087.8\n",
       "23       1362     1589.6\n",
       "24       1562     1422.7\n",
       "25       1286     1569.6\n",
       "26       1529     1386.0\n",
       "27       1810     2220.0\n",
       "28       1606     1291.4\n",
       "29       1363     1102.0\n",
       "30       1457      943.2\n",
       "31       1233      731.4\n",
       "32       2285     1878.9\n",
       "34       2176     1635.4\n",
       "35       1587     1035.5\n",
       "..        ...        ...\n",
       "141      1820     1532.9\n",
       "142      2087     2279.8\n",
       "143      1299     1228.1\n",
       "144      1524      854.3\n",
       "145      1450     1975.8\n",
       "146      1340      601.1\n",
       "147      1634     1140.4\n",
       "148      1608     1520.6\n",
       "149      1649      922.9\n",
       "150      2013     1394.8\n",
       "151      1626     1706.9\n",
       "152      1732     2447.5\n",
       "154      1561     1399.8\n",
       "155      1485     1739.3\n",
       "156      1767     1627.5\n",
       "157      1006      922.5\n",
       "158      2085     1602.7\n",
       "159      1588     1570.3\n",
       "161      2121     2039.1\n",
       "162      1568     1958.8\n",
       "163      1216     1043.6\n",
       "164      1612     1327.6\n",
       "165      1827     1026.9\n",
       "166      1721     1584.6\n",
       "167      1467     1342.4\n",
       "168      1976     1204.3\n",
       "169      1731      981.6\n",
       "170      1033     1128.3\n",
       "171      1585     1247.5\n",
       "172      1320      994.0\n",
       "\n",
       "[156 rows x 2 columns]"
      ]
     },
     "execution_count": 9,
     "metadata": {},
     "output_type": "execute_result"
    }
   ],
   "source": [
    "# option 1\n",
    "df[df.Alcoh_dr > 0][['Calor_dr','Calor_ffq']]\n",
    "\n",
    "# option 2\n",
    "df.loc[df.Alcoh_dr > 0,['Calor_dr','Calor_ffq']]"
   ]
  },
  {
   "cell_type": "markdown",
   "metadata": {},
   "source": [
    "## 3.3 Do some plotting"
   ]
  },
  {
   "cell_type": "code",
   "execution_count": 10,
   "metadata": {},
   "outputs": [
    {
     "data": {
      "image/png": "[encoded data removed]",
      "text/plain": [
       "<Figure size 432x288 with 1 Axes>"
      ]
     },
     "metadata": {
      "needs_background": "light"
     },
     "output_type": "display_data"
    },
    {
     "data": {
      "image/png": "[encoded data removed]",
      "text/plain": [
       "<Figure size 432x288 with 1 Axes>"
      ]
     },
     "metadata": {
      "needs_background": "light"
     },
     "output_type": "display_data"
    }
   ],
   "source": [
    "# histograms\n",
    "\n",
    "# option 1: using pandas\n",
    "df.Alcoh_dr.hist(bins=50, grid=False)\n",
    "plt.show()\n",
    "\n",
    "# option 2: using matplotlib\n",
    "plt.hist(df.Alcoh_dr.values, bins=50)\n",
    "plt.show()"
   ]
  },
  {
   "cell_type": "code",
   "execution_count": 11,
   "metadata": {},
   "outputs": [
    {
     "data": {
      "image/png": "[encoded data removed]",
      "text/plain": [
       "<Figure size 432x288 with 1 Axes>"
      ]
     },
     "metadata": {
      "needs_background": "light"
     },
     "output_type": "display_data"
    }
   ],
   "source": [
    "# boxplots\n",
    "df[['Calor_dr','Calor_ffq']].boxplot()\n",
    "plt.show()"
   ]
  },
  {
   "cell_type": "code",
   "execution_count": 12,
   "metadata": {},
   "outputs": [
    {
     "data": {
      "image/png": "[encoded data removed]",
      "text/plain": [
       "<Figure size 432x288 with 1 Axes>"
      ]
     },
     "metadata": {
      "needs_background": "light"
     },
     "output_type": "display_data"
    }
   ],
   "source": [
    "# scatter plots\n",
    "df.plot.scatter(x = 'Calor_dr', y = 'Calor_ffq')\n",
    "plt.show()"
   ]
  },
  {
   "cell_type": "markdown",
   "metadata": {},
   "source": [
    "# References\n",
    "\n",
    "- [Pandas Cheat Sheet](https://github.com/pandas-dev/pandas/blob/master/doc/cheatsheet/Pandas_Cheat_Sheet.pdf)"
   ]
  }
 ],
 "metadata": {
  "kernelspec": {
   "display_name": "Python 3",
   "language": "python",
   "name": "python3"
  },
  "language_info": {
   "codemirror_mode": {
    "name": "ipython",
    "version": 3
   },
   "file_extension": ".py",
   "mimetype": "text/x-python",
   "name": "python",
   "nbconvert_exporter": "python",
   "pygments_lexer": "ipython3",
   "version": "3.8.3"
  }
 },
 "nbformat": 4,
 "nbformat_minor": 2
}
